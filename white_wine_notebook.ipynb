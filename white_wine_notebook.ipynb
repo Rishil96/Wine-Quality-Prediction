{
 "cells": [
  {
   "cell_type": "code",
   "execution_count": 1,
   "metadata": {},
   "outputs": [],
   "source": [
    "# Import Libraries\n",
    "\n",
    "import numpy as np\n",
    "import pandas as pd\n",
    "import matplotlib.pyplot as plt\n",
    "import seaborn as sns\n",
    "pd.set_option(\"display.max_columns\",25)\n",
    "from scipy.stats.mstats import winsorize\n",
    "from sklearn.model_selection import train_test_split,RandomizedSearchCV,GridSearchCV\n",
    "from sklearn.tree import DecisionTreeClassifier,ExtraTreeClassifier\n",
    "from sklearn.ensemble import RandomForestClassifier,GradientBoostingClassifier\n",
    "from sklearn.linear_model import LogisticRegression\n",
    "from sklearn.preprocessing import MinMaxScaler,StandardScaler\n",
    "from scipy.stats import boxcox\n",
    "from sklearn.naive_bayes import MultinomialNB\n",
    "from sklearn.neighbors import KNeighborsClassifier\n",
    "from sklearn.metrics import classification_report,confusion_matrix,accuracy_score,precision_score,recall_score"
   ]
  },
  {
   "cell_type": "code",
   "execution_count": 2,
   "metadata": {},
   "outputs": [
    {
     "name": "stdout",
     "output_type": "stream",
     "text": [
      "Shape : (4898, 12)\n"
     ]
    },
    {
     "data": {
      "text/html": [
       "<div>\n",
       "<style scoped>\n",
       "    .dataframe tbody tr th:only-of-type {\n",
       "        vertical-align: middle;\n",
       "    }\n",
       "\n",
       "    .dataframe tbody tr th {\n",
       "        vertical-align: top;\n",
       "    }\n",
       "\n",
       "    .dataframe thead th {\n",
       "        text-align: right;\n",
       "    }\n",
       "</style>\n",
       "<table border=\"1\" class=\"dataframe\">\n",
       "  <thead>\n",
       "    <tr style=\"text-align: right;\">\n",
       "      <th></th>\n",
       "      <th>fixed acidity</th>\n",
       "      <th>volatile acidity</th>\n",
       "      <th>citric acid</th>\n",
       "      <th>residual sugar</th>\n",
       "      <th>chlorides</th>\n",
       "      <th>free sulfur dioxide</th>\n",
       "      <th>total sulfur dioxide</th>\n",
       "      <th>density</th>\n",
       "      <th>pH</th>\n",
       "      <th>sulphates</th>\n",
       "      <th>alcohol</th>\n",
       "      <th>quality</th>\n",
       "    </tr>\n",
       "  </thead>\n",
       "  <tbody>\n",
       "    <tr>\n",
       "      <td>0</td>\n",
       "      <td>7.0</td>\n",
       "      <td>0.27</td>\n",
       "      <td>0.36</td>\n",
       "      <td>20.7</td>\n",
       "      <td>0.045</td>\n",
       "      <td>45.0</td>\n",
       "      <td>170.0</td>\n",
       "      <td>1.0010</td>\n",
       "      <td>3.00</td>\n",
       "      <td>0.45</td>\n",
       "      <td>8.8</td>\n",
       "      <td>6</td>\n",
       "    </tr>\n",
       "    <tr>\n",
       "      <td>1</td>\n",
       "      <td>6.3</td>\n",
       "      <td>0.30</td>\n",
       "      <td>0.34</td>\n",
       "      <td>1.6</td>\n",
       "      <td>0.049</td>\n",
       "      <td>14.0</td>\n",
       "      <td>132.0</td>\n",
       "      <td>0.9940</td>\n",
       "      <td>3.30</td>\n",
       "      <td>0.49</td>\n",
       "      <td>9.5</td>\n",
       "      <td>6</td>\n",
       "    </tr>\n",
       "    <tr>\n",
       "      <td>2</td>\n",
       "      <td>8.1</td>\n",
       "      <td>0.28</td>\n",
       "      <td>0.40</td>\n",
       "      <td>6.9</td>\n",
       "      <td>0.050</td>\n",
       "      <td>30.0</td>\n",
       "      <td>97.0</td>\n",
       "      <td>0.9951</td>\n",
       "      <td>3.26</td>\n",
       "      <td>0.44</td>\n",
       "      <td>10.1</td>\n",
       "      <td>6</td>\n",
       "    </tr>\n",
       "    <tr>\n",
       "      <td>3</td>\n",
       "      <td>7.2</td>\n",
       "      <td>0.23</td>\n",
       "      <td>0.32</td>\n",
       "      <td>8.5</td>\n",
       "      <td>0.058</td>\n",
       "      <td>47.0</td>\n",
       "      <td>186.0</td>\n",
       "      <td>0.9956</td>\n",
       "      <td>3.19</td>\n",
       "      <td>0.40</td>\n",
       "      <td>9.9</td>\n",
       "      <td>6</td>\n",
       "    </tr>\n",
       "    <tr>\n",
       "      <td>4</td>\n",
       "      <td>7.2</td>\n",
       "      <td>0.23</td>\n",
       "      <td>0.32</td>\n",
       "      <td>8.5</td>\n",
       "      <td>0.058</td>\n",
       "      <td>47.0</td>\n",
       "      <td>186.0</td>\n",
       "      <td>0.9956</td>\n",
       "      <td>3.19</td>\n",
       "      <td>0.40</td>\n",
       "      <td>9.9</td>\n",
       "      <td>6</td>\n",
       "    </tr>\n",
       "  </tbody>\n",
       "</table>\n",
       "</div>"
      ],
      "text/plain": [
       "   fixed acidity  volatile acidity  citric acid  residual sugar  chlorides  \\\n",
       "0            7.0              0.27         0.36            20.7      0.045   \n",
       "1            6.3              0.30         0.34             1.6      0.049   \n",
       "2            8.1              0.28         0.40             6.9      0.050   \n",
       "3            7.2              0.23         0.32             8.5      0.058   \n",
       "4            7.2              0.23         0.32             8.5      0.058   \n",
       "\n",
       "   free sulfur dioxide  total sulfur dioxide  density    pH  sulphates  \\\n",
       "0                 45.0                 170.0   1.0010  3.00       0.45   \n",
       "1                 14.0                 132.0   0.9940  3.30       0.49   \n",
       "2                 30.0                  97.0   0.9951  3.26       0.44   \n",
       "3                 47.0                 186.0   0.9956  3.19       0.40   \n",
       "4                 47.0                 186.0   0.9956  3.19       0.40   \n",
       "\n",
       "   alcohol  quality  \n",
       "0      8.8        6  \n",
       "1      9.5        6  \n",
       "2     10.1        6  \n",
       "3      9.9        6  \n",
       "4      9.9        6  "
      ]
     },
     "execution_count": 2,
     "metadata": {},
     "output_type": "execute_result"
    }
   ],
   "source": [
    "# White Wine Data\n",
    "\n",
    "wdf = pd.read_csv(\"winequality-white.csv\",sep=\";\")\n",
    "print(\"Shape :\",wdf.shape)\n",
    "wdf.head()"
   ]
  },
  {
   "cell_type": "markdown",
   "metadata": {},
   "source": [
    "# Variable Identification"
   ]
  },
  {
   "cell_type": "code",
   "execution_count": 3,
   "metadata": {},
   "outputs": [],
   "source": [
    "# Categorical Columns\n",
    "\n",
    "def cat_cols(dataframe):\n",
    "    return list(dataframe.select_dtypes(include='object').columns)\n",
    "\n",
    "categorical_columns = cat_cols(wdf)"
   ]
  },
  {
   "cell_type": "code",
   "execution_count": 4,
   "metadata": {},
   "outputs": [],
   "source": [
    "# Numerical columns\n",
    "\n",
    "def num_cols(dataframe):\n",
    "    return list(dataframe.select_dtypes(include='number').columns)\n",
    "\n",
    "numerical_columns = num_cols(wdf)"
   ]
  },
  {
   "cell_type": "code",
   "execution_count": 5,
   "metadata": {},
   "outputs": [
    {
     "name": "stdout",
     "output_type": "stream",
     "text": [
      "Categorical Columns :\n",
      " []\n",
      "\n",
      "Numerical Columns :\n",
      " ['fixed acidity', 'volatile acidity', 'citric acid', 'residual sugar', 'chlorides', 'free sulfur dioxide', 'total sulfur dioxide', 'density', 'pH', 'sulphates', 'alcohol', 'quality']\n"
     ]
    }
   ],
   "source": [
    "# Numerical and Categorical Columns\n",
    "\n",
    "print(\"Categorical Columns :\\n\",categorical_columns)\n",
    "print(\"\\nNumerical Columns :\\n\",numerical_columns)"
   ]
  },
  {
   "cell_type": "code",
   "execution_count": 6,
   "metadata": {},
   "outputs": [
    {
     "name": "stdout",
     "output_type": "stream",
     "text": [
      "<class 'pandas.core.frame.DataFrame'>\n",
      "RangeIndex: 4898 entries, 0 to 4897\n",
      "Data columns (total 12 columns):\n",
      "fixed acidity           4898 non-null float64\n",
      "volatile acidity        4898 non-null float64\n",
      "citric acid             4898 non-null float64\n",
      "residual sugar          4898 non-null float64\n",
      "chlorides               4898 non-null float64\n",
      "free sulfur dioxide     4898 non-null float64\n",
      "total sulfur dioxide    4898 non-null float64\n",
      "density                 4898 non-null float64\n",
      "pH                      4898 non-null float64\n",
      "sulphates               4898 non-null float64\n",
      "alcohol                 4898 non-null float64\n",
      "quality                 4898 non-null int64\n",
      "dtypes: float64(11), int64(1)\n",
      "memory usage: 459.3 KB\n"
     ]
    }
   ],
   "source": [
    "# Data info\n",
    "\n",
    "wdf.info()"
   ]
  },
  {
   "cell_type": "code",
   "execution_count": 7,
   "metadata": {},
   "outputs": [
    {
     "data": {
      "text/html": [
       "<div>\n",
       "<style scoped>\n",
       "    .dataframe tbody tr th:only-of-type {\n",
       "        vertical-align: middle;\n",
       "    }\n",
       "\n",
       "    .dataframe tbody tr th {\n",
       "        vertical-align: top;\n",
       "    }\n",
       "\n",
       "    .dataframe thead th {\n",
       "        text-align: right;\n",
       "    }\n",
       "</style>\n",
       "<table border=\"1\" class=\"dataframe\">\n",
       "  <thead>\n",
       "    <tr style=\"text-align: right;\">\n",
       "      <th></th>\n",
       "      <th>fixed acidity</th>\n",
       "      <th>volatile acidity</th>\n",
       "      <th>citric acid</th>\n",
       "      <th>residual sugar</th>\n",
       "      <th>chlorides</th>\n",
       "      <th>free sulfur dioxide</th>\n",
       "      <th>total sulfur dioxide</th>\n",
       "      <th>density</th>\n",
       "      <th>pH</th>\n",
       "      <th>sulphates</th>\n",
       "      <th>alcohol</th>\n",
       "      <th>quality</th>\n",
       "    </tr>\n",
       "  </thead>\n",
       "  <tbody>\n",
       "    <tr>\n",
       "      <td>count</td>\n",
       "      <td>4898.000000</td>\n",
       "      <td>4898.000000</td>\n",
       "      <td>4898.000000</td>\n",
       "      <td>4898.000000</td>\n",
       "      <td>4898.000000</td>\n",
       "      <td>4898.000000</td>\n",
       "      <td>4898.000000</td>\n",
       "      <td>4898.000000</td>\n",
       "      <td>4898.000000</td>\n",
       "      <td>4898.000000</td>\n",
       "      <td>4898.000000</td>\n",
       "      <td>4898.000000</td>\n",
       "    </tr>\n",
       "    <tr>\n",
       "      <td>mean</td>\n",
       "      <td>6.854788</td>\n",
       "      <td>0.278241</td>\n",
       "      <td>0.334192</td>\n",
       "      <td>6.391415</td>\n",
       "      <td>0.045772</td>\n",
       "      <td>35.308085</td>\n",
       "      <td>138.360657</td>\n",
       "      <td>0.994027</td>\n",
       "      <td>3.188267</td>\n",
       "      <td>0.489847</td>\n",
       "      <td>10.514267</td>\n",
       "      <td>5.877909</td>\n",
       "    </tr>\n",
       "    <tr>\n",
       "      <td>std</td>\n",
       "      <td>0.843868</td>\n",
       "      <td>0.100795</td>\n",
       "      <td>0.121020</td>\n",
       "      <td>5.072058</td>\n",
       "      <td>0.021848</td>\n",
       "      <td>17.007137</td>\n",
       "      <td>42.498065</td>\n",
       "      <td>0.002991</td>\n",
       "      <td>0.151001</td>\n",
       "      <td>0.114126</td>\n",
       "      <td>1.230621</td>\n",
       "      <td>0.885639</td>\n",
       "    </tr>\n",
       "    <tr>\n",
       "      <td>min</td>\n",
       "      <td>3.800000</td>\n",
       "      <td>0.080000</td>\n",
       "      <td>0.000000</td>\n",
       "      <td>0.600000</td>\n",
       "      <td>0.009000</td>\n",
       "      <td>2.000000</td>\n",
       "      <td>9.000000</td>\n",
       "      <td>0.987110</td>\n",
       "      <td>2.720000</td>\n",
       "      <td>0.220000</td>\n",
       "      <td>8.000000</td>\n",
       "      <td>3.000000</td>\n",
       "    </tr>\n",
       "    <tr>\n",
       "      <td>25%</td>\n",
       "      <td>6.300000</td>\n",
       "      <td>0.210000</td>\n",
       "      <td>0.270000</td>\n",
       "      <td>1.700000</td>\n",
       "      <td>0.036000</td>\n",
       "      <td>23.000000</td>\n",
       "      <td>108.000000</td>\n",
       "      <td>0.991723</td>\n",
       "      <td>3.090000</td>\n",
       "      <td>0.410000</td>\n",
       "      <td>9.500000</td>\n",
       "      <td>5.000000</td>\n",
       "    </tr>\n",
       "    <tr>\n",
       "      <td>50%</td>\n",
       "      <td>6.800000</td>\n",
       "      <td>0.260000</td>\n",
       "      <td>0.320000</td>\n",
       "      <td>5.200000</td>\n",
       "      <td>0.043000</td>\n",
       "      <td>34.000000</td>\n",
       "      <td>134.000000</td>\n",
       "      <td>0.993740</td>\n",
       "      <td>3.180000</td>\n",
       "      <td>0.470000</td>\n",
       "      <td>10.400000</td>\n",
       "      <td>6.000000</td>\n",
       "    </tr>\n",
       "    <tr>\n",
       "      <td>75%</td>\n",
       "      <td>7.300000</td>\n",
       "      <td>0.320000</td>\n",
       "      <td>0.390000</td>\n",
       "      <td>9.900000</td>\n",
       "      <td>0.050000</td>\n",
       "      <td>46.000000</td>\n",
       "      <td>167.000000</td>\n",
       "      <td>0.996100</td>\n",
       "      <td>3.280000</td>\n",
       "      <td>0.550000</td>\n",
       "      <td>11.400000</td>\n",
       "      <td>6.000000</td>\n",
       "    </tr>\n",
       "    <tr>\n",
       "      <td>max</td>\n",
       "      <td>14.200000</td>\n",
       "      <td>1.100000</td>\n",
       "      <td>1.660000</td>\n",
       "      <td>65.800000</td>\n",
       "      <td>0.346000</td>\n",
       "      <td>289.000000</td>\n",
       "      <td>440.000000</td>\n",
       "      <td>1.038980</td>\n",
       "      <td>3.820000</td>\n",
       "      <td>1.080000</td>\n",
       "      <td>14.200000</td>\n",
       "      <td>9.000000</td>\n",
       "    </tr>\n",
       "  </tbody>\n",
       "</table>\n",
       "</div>"
      ],
      "text/plain": [
       "       fixed acidity  volatile acidity  citric acid  residual sugar  \\\n",
       "count    4898.000000       4898.000000  4898.000000     4898.000000   \n",
       "mean        6.854788          0.278241     0.334192        6.391415   \n",
       "std         0.843868          0.100795     0.121020        5.072058   \n",
       "min         3.800000          0.080000     0.000000        0.600000   \n",
       "25%         6.300000          0.210000     0.270000        1.700000   \n",
       "50%         6.800000          0.260000     0.320000        5.200000   \n",
       "75%         7.300000          0.320000     0.390000        9.900000   \n",
       "max        14.200000          1.100000     1.660000       65.800000   \n",
       "\n",
       "         chlorides  free sulfur dioxide  total sulfur dioxide      density  \\\n",
       "count  4898.000000          4898.000000           4898.000000  4898.000000   \n",
       "mean      0.045772            35.308085            138.360657     0.994027   \n",
       "std       0.021848            17.007137             42.498065     0.002991   \n",
       "min       0.009000             2.000000              9.000000     0.987110   \n",
       "25%       0.036000            23.000000            108.000000     0.991723   \n",
       "50%       0.043000            34.000000            134.000000     0.993740   \n",
       "75%       0.050000            46.000000            167.000000     0.996100   \n",
       "max       0.346000           289.000000            440.000000     1.038980   \n",
       "\n",
       "                pH    sulphates      alcohol      quality  \n",
       "count  4898.000000  4898.000000  4898.000000  4898.000000  \n",
       "mean      3.188267     0.489847    10.514267     5.877909  \n",
       "std       0.151001     0.114126     1.230621     0.885639  \n",
       "min       2.720000     0.220000     8.000000     3.000000  \n",
       "25%       3.090000     0.410000     9.500000     5.000000  \n",
       "50%       3.180000     0.470000    10.400000     6.000000  \n",
       "75%       3.280000     0.550000    11.400000     6.000000  \n",
       "max       3.820000     1.080000    14.200000     9.000000  "
      ]
     },
     "execution_count": 7,
     "metadata": {},
     "output_type": "execute_result"
    }
   ],
   "source": [
    "# Data Description\n",
    "\n",
    "wdf.describe()"
   ]
  },
  {
   "cell_type": "markdown",
   "metadata": {},
   "source": [
    "# Missing Values"
   ]
  },
  {
   "cell_type": "code",
   "execution_count": 8,
   "metadata": {},
   "outputs": [
    {
     "data": {
      "text/html": [
       "<div>\n",
       "<style scoped>\n",
       "    .dataframe tbody tr th:only-of-type {\n",
       "        vertical-align: middle;\n",
       "    }\n",
       "\n",
       "    .dataframe tbody tr th {\n",
       "        vertical-align: top;\n",
       "    }\n",
       "\n",
       "    .dataframe thead th {\n",
       "        text-align: right;\n",
       "    }\n",
       "</style>\n",
       "<table border=\"1\" class=\"dataframe\">\n",
       "  <thead>\n",
       "    <tr style=\"text-align: right;\">\n",
       "      <th></th>\n",
       "      <th>Count</th>\n",
       "      <th>Percntage</th>\n",
       "    </tr>\n",
       "  </thead>\n",
       "  <tbody>\n",
       "    <tr>\n",
       "      <td>fixed acidity</td>\n",
       "      <td>0</td>\n",
       "      <td>0.0</td>\n",
       "    </tr>\n",
       "    <tr>\n",
       "      <td>volatile acidity</td>\n",
       "      <td>0</td>\n",
       "      <td>0.0</td>\n",
       "    </tr>\n",
       "    <tr>\n",
       "      <td>citric acid</td>\n",
       "      <td>0</td>\n",
       "      <td>0.0</td>\n",
       "    </tr>\n",
       "    <tr>\n",
       "      <td>residual sugar</td>\n",
       "      <td>0</td>\n",
       "      <td>0.0</td>\n",
       "    </tr>\n",
       "    <tr>\n",
       "      <td>chlorides</td>\n",
       "      <td>0</td>\n",
       "      <td>0.0</td>\n",
       "    </tr>\n",
       "    <tr>\n",
       "      <td>free sulfur dioxide</td>\n",
       "      <td>0</td>\n",
       "      <td>0.0</td>\n",
       "    </tr>\n",
       "    <tr>\n",
       "      <td>total sulfur dioxide</td>\n",
       "      <td>0</td>\n",
       "      <td>0.0</td>\n",
       "    </tr>\n",
       "    <tr>\n",
       "      <td>density</td>\n",
       "      <td>0</td>\n",
       "      <td>0.0</td>\n",
       "    </tr>\n",
       "    <tr>\n",
       "      <td>pH</td>\n",
       "      <td>0</td>\n",
       "      <td>0.0</td>\n",
       "    </tr>\n",
       "    <tr>\n",
       "      <td>sulphates</td>\n",
       "      <td>0</td>\n",
       "      <td>0.0</td>\n",
       "    </tr>\n",
       "    <tr>\n",
       "      <td>alcohol</td>\n",
       "      <td>0</td>\n",
       "      <td>0.0</td>\n",
       "    </tr>\n",
       "    <tr>\n",
       "      <td>quality</td>\n",
       "      <td>0</td>\n",
       "      <td>0.0</td>\n",
       "    </tr>\n",
       "  </tbody>\n",
       "</table>\n",
       "</div>"
      ],
      "text/plain": [
       "                      Count  Percntage\n",
       "fixed acidity             0        0.0\n",
       "volatile acidity          0        0.0\n",
       "citric acid               0        0.0\n",
       "residual sugar            0        0.0\n",
       "chlorides                 0        0.0\n",
       "free sulfur dioxide       0        0.0\n",
       "total sulfur dioxide      0        0.0\n",
       "density                   0        0.0\n",
       "pH                        0        0.0\n",
       "sulphates                 0        0.0\n",
       "alcohol                   0        0.0\n",
       "quality                   0        0.0"
      ]
     },
     "execution_count": 8,
     "metadata": {},
     "output_type": "execute_result"
    }
   ],
   "source": [
    "# Missing Values\n",
    "\n",
    "def missing_values(dataframe):\n",
    "    counts = dataframe.isnull().sum()\n",
    "    percent = dataframe.isnull().sum()/dataframe.shape[0]*100\n",
    "    return pd.DataFrame({\"Count\":counts,\"Percntage\":percent},index=dataframe.isnull().sum().index)\n",
    "\n",
    "missing_values(wdf)"
   ]
  },
  {
   "cell_type": "markdown",
   "metadata": {},
   "source": [
    "# Univariate Analysis"
   ]
  },
  {
   "cell_type": "code",
   "execution_count": 9,
   "metadata": {},
   "outputs": [
    {
     "data": {
      "text/plain": [
       "Index(['fixed acidity', 'volatile acidity', 'citric acid', 'residual sugar',\n",
       "       'chlorides', 'free sulfur dioxide', 'total sulfur dioxide', 'density',\n",
       "       'pH', 'sulphates', 'alcohol', 'quality'],\n",
       "      dtype='object')"
      ]
     },
     "execution_count": 9,
     "metadata": {},
     "output_type": "execute_result"
    }
   ],
   "source": [
    "# Column list\n",
    "\n",
    "wdf.columns"
   ]
  },
  {
   "cell_type": "code",
   "execution_count": 10,
   "metadata": {},
   "outputs": [
    {
     "name": "stdout",
     "output_type": "stream",
     "text": [
      "\n",
      "Skewness of fixed acidity : 0.6477514746297539\n",
      "\n",
      "\n",
      "Skewness of volatile acidity : 1.5769795029952025\n",
      "\n",
      "\n",
      "Skewness of citric acid : 1.2819203981671066\n",
      "\n",
      "\n",
      "Skewness of residual sugar : 1.0770937564240868\n",
      "\n",
      "\n",
      "Skewness of chlorides : 5.023330682759707\n",
      "\n",
      "\n",
      "Skewness of free sulfur dioxide : 1.4067449205303078\n",
      "\n",
      "\n",
      "Skewness of total sulfur dioxide : 0.3907098416536745\n",
      "\n",
      "\n",
      "Skewness of density : 0.9777730048689881\n",
      "\n",
      "\n",
      "Skewness of pH : 0.4577825459180807\n",
      "\n",
      "\n",
      "Skewness of sulphates : 0.9771936833065663\n",
      "\n",
      "\n",
      "Skewness of alcohol : 0.4873419932161276\n",
      "\n",
      "\n",
      "Skewness of quality : 0.15579639772222578\n",
      "\n"
     ]
    }
   ],
   "source": [
    "# Checking skewness of columns\n",
    "\n",
    "for i in wdf.columns:\n",
    "    print(\"\\nSkewness of {0} : {1}\\n\".format(i,wdf[i].skew()))\n",
    "    "
   ]
  },
  {
   "cell_type": "code",
   "execution_count": 11,
   "metadata": {},
   "outputs": [
    {
     "data": {
      "image/png": "[encoded data removed]",
      "text/plain": [
       "<Figure size 648x504 with 1 Axes>"
      ]
     },
     "metadata": {
      "needs_background": "light"
     },
     "output_type": "display_data"
    }
   ],
   "source": [
    "# Fixed Acidity \n",
    "\n",
    "plt.figure(figsize=[9,7])\n",
    "sns.distplot(wdf['fixed acidity'],kde=False,bins=10,color='green')\n",
    "plt.xlabel(\"Fixed Acidity\",fontsize=12)\n",
    "plt.title(\"Histogram of Fixed Acidity\",fontsize=15);"
   ]
  },
  {
   "cell_type": "code",
   "execution_count": 12,
   "metadata": {},
   "outputs": [
    {
     "data": {
      "image/png": "[encoded data removed]",
      "text/plain": [
       "<Figure size 648x504 with 1 Axes>"
      ]
     },
     "metadata": {
      "needs_background": "light"
     },
     "output_type": "display_data"
    }
   ],
   "source": [
    "# Volatile Acidity \n",
    "\n",
    "plt.figure(figsize=[9,7])\n",
    "sns.distplot(wdf['volatile acidity'],kde=False,bins=10,color='green')\n",
    "plt.xlabel(\"Volatile Acidity\",fontsize=12)\n",
    "plt.title(\"Histogram of Volatile Acidity\",fontsize=15);"
   ]
  },
  {
   "cell_type": "code",
   "execution_count": 13,
   "metadata": {},
   "outputs": [
    {
     "data": {
      "image/png": "[encoded data removed]",
      "text/plain": [
       "<Figure size 648x504 with 1 Axes>"
      ]
     },
     "metadata": {
      "needs_background": "light"
     },
     "output_type": "display_data"
    }
   ],
   "source": [
    "# Citric Acid\n",
    "\n",
    "plt.figure(figsize=[9,7])\n",
    "sns.distplot(wdf['citric acid'],kde=False,bins=10,color='green')\n",
    "plt.xlabel(\"Citric Acid\",fontsize=12)\n",
    "plt.title(\"Histogram of Citric Acid\",fontsize=15);"
   ]
  },
  {
   "cell_type": "code",
   "execution_count": 14,
   "metadata": {},
   "outputs": [
    {
     "data": {
      "image/png": "[encoded data removed]",
      "text/plain": [
       "<Figure size 648x504 with 1 Axes>"
      ]
     },
     "metadata": {
      "needs_background": "light"
     },
     "output_type": "display_data"
    }
   ],
   "source": [
    "# Residual Sugar\n",
    "\n",
    "plt.figure(figsize=[9,7])\n",
    "sns.distplot(wdf['residual sugar'],kde=False,bins=10,color='green')\n",
    "plt.xlabel(\"Residual Sugar\",fontsize=12)\n",
    "plt.title(\"Histogram of Residual Sugar\",fontsize=15);"
   ]
  },
  {
   "cell_type": "code",
   "execution_count": 15,
   "metadata": {},
   "outputs": [
    {
     "data": {
      "image/png": "[encoded data removed]",
      "text/plain": [
       "<Figure size 648x504 with 1 Axes>"
      ]
     },
     "metadata": {
      "needs_background": "light"
     },
     "output_type": "display_data"
    }
   ],
   "source": [
    "# Chlorides \n",
    "\n",
    "plt.figure(figsize=[9,7])\n",
    "sns.distplot(wdf['chlorides'],kde=False,bins=10,color='green')\n",
    "plt.xlabel(\"Chlorides\",fontsize=12)\n",
    "plt.title(\"Histogram of Chlorides\",fontsize=15);"
   ]
  },
  {
   "cell_type": "code",
   "execution_count": 16,
   "metadata": {},
   "outputs": [
    {
     "data": {
      "image/png": "[encoded data removed]",
      "text/plain": [
       "<Figure size 648x504 with 1 Axes>"
      ]
     },
     "metadata": {
      "needs_background": "light"
     },
     "output_type": "display_data"
    }
   ],
   "source": [
    "# Free Sulphur Dioxide\n",
    "\n",
    "plt.figure(figsize=[9,7])\n",
    "sns.distplot(wdf['free sulfur dioxide'],kde=False,bins=10,color='green')\n",
    "plt.xlabel(\"Free Sulphur Dioxide\",fontsize=12)\n",
    "plt.title(\"Histogram of Free Sulphur Dioxide\",fontsize=15);"
   ]
  },
  {
   "cell_type": "code",
   "execution_count": 17,
   "metadata": {},
   "outputs": [
    {
     "data": {
      "image/png": "[encoded data removed]",
      "text/plain": [
       "<Figure size 648x504 with 1 Axes>"
      ]
     },
     "metadata": {
      "needs_background": "light"
     },
     "output_type": "display_data"
    }
   ],
   "source": [
    "# Total Sulphur Dioxide\n",
    "\n",
    "plt.figure(figsize=[9,7])\n",
    "sns.distplot(wdf['total sulfur dioxide'],kde=False,bins=10,color='green')\n",
    "plt.xlabel(\"Total Sulphur Dioxide\",fontsize=12)\n",
    "plt.title(\"Histogram of Total Sulphur Dioxide\",fontsize=15);"
   ]
  },
  {
   "cell_type": "code",
   "execution_count": 18,
   "metadata": {},
   "outputs": [
    {
     "data": {
      "image/png": "[encoded data removed]",
      "text/plain": [
       "<Figure size 648x504 with 1 Axes>"
      ]
     },
     "metadata": {
      "needs_background": "light"
     },
     "output_type": "display_data"
    }
   ],
   "source": [
    "# Density\n",
    "\n",
    "plt.figure(figsize=[9,7])\n",
    "sns.distplot(wdf['density'],kde=False,bins=10,color='green')\n",
    "plt.xlabel(\"Density\",fontsize=12)\n",
    "plt.title(\"Histogram of Density\",fontsize=15);"
   ]
  },
  {
   "cell_type": "code",
   "execution_count": 19,
   "metadata": {},
   "outputs": [
    {
     "data": {
      "image/png": "[encoded data removed]",
      "text/plain": [
       "<Figure size 648x504 with 1 Axes>"
      ]
     },
     "metadata": {
      "needs_background": "light"
     },
     "output_type": "display_data"
    }
   ],
   "source": [
    "# pH\n",
    "\n",
    "plt.figure(figsize=[9,7])\n",
    "sns.distplot(wdf['pH'],kde=False,bins=10,color='green')\n",
    "plt.xlabel(\"pH\",fontsize=12)\n",
    "plt.title(\"Histogram of pH\",fontsize=15);"
   ]
  },
  {
   "cell_type": "code",
   "execution_count": 20,
   "metadata": {},
   "outputs": [
    {
     "data": {
      "image/png": "[encoded data removed]",
      "text/plain": [
       "<Figure size 648x504 with 1 Axes>"
      ]
     },
     "metadata": {
      "needs_background": "light"
     },
     "output_type": "display_data"
    }
   ],
   "source": [
    "# Sulphates\n",
    "\n",
    "plt.figure(figsize=[9,7])\n",
    "sns.distplot(wdf['sulphates'],kde=False,bins=10,color='green')\n",
    "plt.xlabel(\"Sulphates\",fontsize=12)\n",
    "plt.title(\"Histogram of Sulphates\",fontsize=15);"
   ]
  },
  {
   "cell_type": "code",
   "execution_count": 21,
   "metadata": {},
   "outputs": [
    {
     "data": {
      "image/png": "[encoded data removed]",
      "text/plain": [
       "<Figure size 648x504 with 1 Axes>"
      ]
     },
     "metadata": {
      "needs_background": "light"
     },
     "output_type": "display_data"
    }
   ],
   "source": [
    "# Alcohol\n",
    "\n",
    "plt.figure(figsize=[9,7])\n",
    "sns.distplot(wdf['alcohol'],kde=False,bins=10,color='green')\n",
    "plt.xlabel(\"Alcohol\",fontsize=12)\n",
    "plt.title(\"Histogram of Alcohol\",fontsize=15);"
   ]
  },
  {
   "cell_type": "markdown",
   "metadata": {},
   "source": [
    "# Bivariate Analysis"
   ]
  },
  {
   "cell_type": "code",
   "execution_count": 22,
   "metadata": {},
   "outputs": [
    {
     "data": {
      "text/html": [
       "<div>\n",
       "<style scoped>\n",
       "    .dataframe tbody tr th:only-of-type {\n",
       "        vertical-align: middle;\n",
       "    }\n",
       "\n",
       "    .dataframe tbody tr th {\n",
       "        vertical-align: top;\n",
       "    }\n",
       "\n",
       "    .dataframe thead th {\n",
       "        text-align: right;\n",
       "    }\n",
       "</style>\n",
       "<table border=\"1\" class=\"dataframe\">\n",
       "  <thead>\n",
       "    <tr style=\"text-align: right;\">\n",
       "      <th></th>\n",
       "      <th>fixed acidity</th>\n",
       "      <th>volatile acidity</th>\n",
       "      <th>citric acid</th>\n",
       "      <th>residual sugar</th>\n",
       "      <th>chlorides</th>\n",
       "      <th>free sulfur dioxide</th>\n",
       "      <th>total sulfur dioxide</th>\n",
       "      <th>density</th>\n",
       "      <th>pH</th>\n",
       "      <th>sulphates</th>\n",
       "      <th>alcohol</th>\n",
       "      <th>quality</th>\n",
       "    </tr>\n",
       "  </thead>\n",
       "  <tbody>\n",
       "    <tr>\n",
       "      <td>fixed acidity</td>\n",
       "      <td>1.000000</td>\n",
       "      <td>-0.022697</td>\n",
       "      <td>0.289181</td>\n",
       "      <td>0.089021</td>\n",
       "      <td>0.023086</td>\n",
       "      <td>-0.049396</td>\n",
       "      <td>0.091070</td>\n",
       "      <td>0.265331</td>\n",
       "      <td>-0.425858</td>\n",
       "      <td>-0.017143</td>\n",
       "      <td>-0.120881</td>\n",
       "      <td>-0.113663</td>\n",
       "    </tr>\n",
       "    <tr>\n",
       "      <td>volatile acidity</td>\n",
       "      <td>-0.022697</td>\n",
       "      <td>1.000000</td>\n",
       "      <td>-0.149472</td>\n",
       "      <td>0.064286</td>\n",
       "      <td>0.070512</td>\n",
       "      <td>-0.097012</td>\n",
       "      <td>0.089261</td>\n",
       "      <td>0.027114</td>\n",
       "      <td>-0.031915</td>\n",
       "      <td>-0.035728</td>\n",
       "      <td>0.067718</td>\n",
       "      <td>-0.194723</td>\n",
       "    </tr>\n",
       "    <tr>\n",
       "      <td>citric acid</td>\n",
       "      <td>0.289181</td>\n",
       "      <td>-0.149472</td>\n",
       "      <td>1.000000</td>\n",
       "      <td>0.094212</td>\n",
       "      <td>0.114364</td>\n",
       "      <td>0.094077</td>\n",
       "      <td>0.121131</td>\n",
       "      <td>0.149503</td>\n",
       "      <td>-0.163748</td>\n",
       "      <td>0.062331</td>\n",
       "      <td>-0.075729</td>\n",
       "      <td>-0.009209</td>\n",
       "    </tr>\n",
       "    <tr>\n",
       "      <td>residual sugar</td>\n",
       "      <td>0.089021</td>\n",
       "      <td>0.064286</td>\n",
       "      <td>0.094212</td>\n",
       "      <td>1.000000</td>\n",
       "      <td>0.088685</td>\n",
       "      <td>0.299098</td>\n",
       "      <td>0.401439</td>\n",
       "      <td>0.838966</td>\n",
       "      <td>-0.194133</td>\n",
       "      <td>-0.026664</td>\n",
       "      <td>-0.450631</td>\n",
       "      <td>-0.097577</td>\n",
       "    </tr>\n",
       "    <tr>\n",
       "      <td>chlorides</td>\n",
       "      <td>0.023086</td>\n",
       "      <td>0.070512</td>\n",
       "      <td>0.114364</td>\n",
       "      <td>0.088685</td>\n",
       "      <td>1.000000</td>\n",
       "      <td>0.101392</td>\n",
       "      <td>0.198910</td>\n",
       "      <td>0.257211</td>\n",
       "      <td>-0.090439</td>\n",
       "      <td>0.016763</td>\n",
       "      <td>-0.360189</td>\n",
       "      <td>-0.209934</td>\n",
       "    </tr>\n",
       "    <tr>\n",
       "      <td>free sulfur dioxide</td>\n",
       "      <td>-0.049396</td>\n",
       "      <td>-0.097012</td>\n",
       "      <td>0.094077</td>\n",
       "      <td>0.299098</td>\n",
       "      <td>0.101392</td>\n",
       "      <td>1.000000</td>\n",
       "      <td>0.615501</td>\n",
       "      <td>0.294210</td>\n",
       "      <td>-0.000618</td>\n",
       "      <td>0.059217</td>\n",
       "      <td>-0.250104</td>\n",
       "      <td>0.008158</td>\n",
       "    </tr>\n",
       "    <tr>\n",
       "      <td>total sulfur dioxide</td>\n",
       "      <td>0.091070</td>\n",
       "      <td>0.089261</td>\n",
       "      <td>0.121131</td>\n",
       "      <td>0.401439</td>\n",
       "      <td>0.198910</td>\n",
       "      <td>0.615501</td>\n",
       "      <td>1.000000</td>\n",
       "      <td>0.529881</td>\n",
       "      <td>0.002321</td>\n",
       "      <td>0.134562</td>\n",
       "      <td>-0.448892</td>\n",
       "      <td>-0.174737</td>\n",
       "    </tr>\n",
       "    <tr>\n",
       "      <td>density</td>\n",
       "      <td>0.265331</td>\n",
       "      <td>0.027114</td>\n",
       "      <td>0.149503</td>\n",
       "      <td>0.838966</td>\n",
       "      <td>0.257211</td>\n",
       "      <td>0.294210</td>\n",
       "      <td>0.529881</td>\n",
       "      <td>1.000000</td>\n",
       "      <td>-0.093591</td>\n",
       "      <td>0.074493</td>\n",
       "      <td>-0.780138</td>\n",
       "      <td>-0.307123</td>\n",
       "    </tr>\n",
       "    <tr>\n",
       "      <td>pH</td>\n",
       "      <td>-0.425858</td>\n",
       "      <td>-0.031915</td>\n",
       "      <td>-0.163748</td>\n",
       "      <td>-0.194133</td>\n",
       "      <td>-0.090439</td>\n",
       "      <td>-0.000618</td>\n",
       "      <td>0.002321</td>\n",
       "      <td>-0.093591</td>\n",
       "      <td>1.000000</td>\n",
       "      <td>0.155951</td>\n",
       "      <td>0.121432</td>\n",
       "      <td>0.099427</td>\n",
       "    </tr>\n",
       "    <tr>\n",
       "      <td>sulphates</td>\n",
       "      <td>-0.017143</td>\n",
       "      <td>-0.035728</td>\n",
       "      <td>0.062331</td>\n",
       "      <td>-0.026664</td>\n",
       "      <td>0.016763</td>\n",
       "      <td>0.059217</td>\n",
       "      <td>0.134562</td>\n",
       "      <td>0.074493</td>\n",
       "      <td>0.155951</td>\n",
       "      <td>1.000000</td>\n",
       "      <td>-0.017433</td>\n",
       "      <td>0.053678</td>\n",
       "    </tr>\n",
       "    <tr>\n",
       "      <td>alcohol</td>\n",
       "      <td>-0.120881</td>\n",
       "      <td>0.067718</td>\n",
       "      <td>-0.075729</td>\n",
       "      <td>-0.450631</td>\n",
       "      <td>-0.360189</td>\n",
       "      <td>-0.250104</td>\n",
       "      <td>-0.448892</td>\n",
       "      <td>-0.780138</td>\n",
       "      <td>0.121432</td>\n",
       "      <td>-0.017433</td>\n",
       "      <td>1.000000</td>\n",
       "      <td>0.435575</td>\n",
       "    </tr>\n",
       "    <tr>\n",
       "      <td>quality</td>\n",
       "      <td>-0.113663</td>\n",
       "      <td>-0.194723</td>\n",
       "      <td>-0.009209</td>\n",
       "      <td>-0.097577</td>\n",
       "      <td>-0.209934</td>\n",
       "      <td>0.008158</td>\n",
       "      <td>-0.174737</td>\n",
       "      <td>-0.307123</td>\n",
       "      <td>0.099427</td>\n",
       "      <td>0.053678</td>\n",
       "      <td>0.435575</td>\n",
       "      <td>1.000000</td>\n",
       "    </tr>\n",
       "  </tbody>\n",
       "</table>\n",
       "</div>"
      ],
      "text/plain": [
       "                      fixed acidity  volatile acidity  citric acid  \\\n",
       "fixed acidity              1.000000         -0.022697     0.289181   \n",
       "volatile acidity          -0.022697          1.000000    -0.149472   \n",
       "citric acid                0.289181         -0.149472     1.000000   \n",
       "residual sugar             0.089021          0.064286     0.094212   \n",
       "chlorides                  0.023086          0.070512     0.114364   \n",
       "free sulfur dioxide       -0.049396         -0.097012     0.094077   \n",
       "total sulfur dioxide       0.091070          0.089261     0.121131   \n",
       "density                    0.265331          0.027114     0.149503   \n",
       "pH                        -0.425858         -0.031915    -0.163748   \n",
       "sulphates                 -0.017143         -0.035728     0.062331   \n",
       "alcohol                   -0.120881          0.067718    -0.075729   \n",
       "quality                   -0.113663         -0.194723    -0.009209   \n",
       "\n",
       "                      residual sugar  chlorides  free sulfur dioxide  \\\n",
       "fixed acidity               0.089021   0.023086            -0.049396   \n",
       "volatile acidity            0.064286   0.070512            -0.097012   \n",
       "citric acid                 0.094212   0.114364             0.094077   \n",
       "residual sugar              1.000000   0.088685             0.299098   \n",
       "chlorides                   0.088685   1.000000             0.101392   \n",
       "free sulfur dioxide         0.299098   0.101392             1.000000   \n",
       "total sulfur dioxide        0.401439   0.198910             0.615501   \n",
       "density                     0.838966   0.257211             0.294210   \n",
       "pH                         -0.194133  -0.090439            -0.000618   \n",
       "sulphates                  -0.026664   0.016763             0.059217   \n",
       "alcohol                    -0.450631  -0.360189            -0.250104   \n",
       "quality                    -0.097577  -0.209934             0.008158   \n",
       "\n",
       "                      total sulfur dioxide   density        pH  sulphates  \\\n",
       "fixed acidity                     0.091070  0.265331 -0.425858  -0.017143   \n",
       "volatile acidity                  0.089261  0.027114 -0.031915  -0.035728   \n",
       "citric acid                       0.121131  0.149503 -0.163748   0.062331   \n",
       "residual sugar                    0.401439  0.838966 -0.194133  -0.026664   \n",
       "chlorides                         0.198910  0.257211 -0.090439   0.016763   \n",
       "free sulfur dioxide               0.615501  0.294210 -0.000618   0.059217   \n",
       "total sulfur dioxide              1.000000  0.529881  0.002321   0.134562   \n",
       "density                           0.529881  1.000000 -0.093591   0.074493   \n",
       "pH                                0.002321 -0.093591  1.000000   0.155951   \n",
       "sulphates                         0.134562  0.074493  0.155951   1.000000   \n",
       "alcohol                          -0.448892 -0.780138  0.121432  -0.017433   \n",
       "quality                          -0.174737 -0.307123  0.099427   0.053678   \n",
       "\n",
       "                       alcohol   quality  \n",
       "fixed acidity        -0.120881 -0.113663  \n",
       "volatile acidity      0.067718 -0.194723  \n",
       "citric acid          -0.075729 -0.009209  \n",
       "residual sugar       -0.450631 -0.097577  \n",
       "chlorides            -0.360189 -0.209934  \n",
       "free sulfur dioxide  -0.250104  0.008158  \n",
       "total sulfur dioxide -0.448892 -0.174737  \n",
       "density              -0.780138 -0.307123  \n",
       "pH                    0.121432  0.099427  \n",
       "sulphates            -0.017433  0.053678  \n",
       "alcohol               1.000000  0.435575  \n",
       "quality               0.435575  1.000000  "
      ]
     },
     "execution_count": 22,
     "metadata": {},
     "output_type": "execute_result"
    }
   ],
   "source": [
    "# Correlation \n",
    "\n",
    "wdf.corr()"
   ]
  },
  {
   "cell_type": "code",
   "execution_count": 23,
   "metadata": {},
   "outputs": [
    {
     "data": {
      "text/plain": [
       "fixed acidity          -0.113663\n",
       "volatile acidity       -0.194723\n",
       "citric acid            -0.009209\n",
       "residual sugar         -0.097577\n",
       "chlorides              -0.209934\n",
       "free sulfur dioxide     0.008158\n",
       "total sulfur dioxide   -0.174737\n",
       "density                -0.307123\n",
       "pH                      0.099427\n",
       "sulphates               0.053678\n",
       "alcohol                 0.435575\n",
       "quality                 1.000000\n",
       "Name: quality, dtype: float64"
      ]
     },
     "execution_count": 23,
     "metadata": {},
     "output_type": "execute_result"
    }
   ],
   "source": [
    "# Correlation w.r.t. target\n",
    "\n",
    "wdf.corr()['quality']"
   ]
  },
  {
   "cell_type": "code",
   "execution_count": 24,
   "metadata": {},
   "outputs": [
    {
     "data": {
      "image/png": "[encoded data removed]",
      "text/plain": [
       "<Figure size 864x720 with 2 Axes>"
      ]
     },
     "metadata": {
      "needs_background": "light"
     },
     "output_type": "display_data"
    }
   ],
   "source": [
    "# Correlation Heatmap\n",
    "\n",
    "plt.figure(figsize=[12,10])\n",
    "sns.heatmap(wdf.corr(),annot=True,cmap='viridis')\n",
    "plt.xticks(fontsize=12)\n",
    "plt.yticks(fontsize=12);"
   ]
  },
  {
   "cell_type": "markdown",
   "metadata": {},
   "source": [
    "# Outlier Detection"
   ]
  },
  {
   "cell_type": "code",
   "execution_count": 25,
   "metadata": {},
   "outputs": [
    {
     "data": {
      "text/html": [
       "<div>\n",
       "<style scoped>\n",
       "    .dataframe tbody tr th:only-of-type {\n",
       "        vertical-align: middle;\n",
       "    }\n",
       "\n",
       "    .dataframe tbody tr th {\n",
       "        vertical-align: top;\n",
       "    }\n",
       "\n",
       "    .dataframe thead th {\n",
       "        text-align: right;\n",
       "    }\n",
       "</style>\n",
       "<table border=\"1\" class=\"dataframe\">\n",
       "  <thead>\n",
       "    <tr style=\"text-align: right;\">\n",
       "      <th></th>\n",
       "      <th>Feature</th>\n",
       "      <th>Number of Outliers</th>\n",
       "    </tr>\n",
       "  </thead>\n",
       "  <tbody>\n",
       "    <tr>\n",
       "      <td>0</td>\n",
       "      <td>fixed acidity</td>\n",
       "      <td>119</td>\n",
       "    </tr>\n",
       "    <tr>\n",
       "      <td>1</td>\n",
       "      <td>volatile acidity</td>\n",
       "      <td>186</td>\n",
       "    </tr>\n",
       "    <tr>\n",
       "      <td>2</td>\n",
       "      <td>citric acid</td>\n",
       "      <td>270</td>\n",
       "    </tr>\n",
       "    <tr>\n",
       "      <td>3</td>\n",
       "      <td>residual sugar</td>\n",
       "      <td>7</td>\n",
       "    </tr>\n",
       "    <tr>\n",
       "      <td>4</td>\n",
       "      <td>chlorides</td>\n",
       "      <td>212</td>\n",
       "    </tr>\n",
       "    <tr>\n",
       "      <td>5</td>\n",
       "      <td>free sulfur dioxide</td>\n",
       "      <td>50</td>\n",
       "    </tr>\n",
       "    <tr>\n",
       "      <td>6</td>\n",
       "      <td>total sulfur dioxide</td>\n",
       "      <td>19</td>\n",
       "    </tr>\n",
       "    <tr>\n",
       "      <td>7</td>\n",
       "      <td>density</td>\n",
       "      <td>5</td>\n",
       "    </tr>\n",
       "    <tr>\n",
       "      <td>8</td>\n",
       "      <td>pH</td>\n",
       "      <td>75</td>\n",
       "    </tr>\n",
       "    <tr>\n",
       "      <td>9</td>\n",
       "      <td>sulphates</td>\n",
       "      <td>124</td>\n",
       "    </tr>\n",
       "    <tr>\n",
       "      <td>10</td>\n",
       "      <td>alcohol</td>\n",
       "      <td>0</td>\n",
       "    </tr>\n",
       "    <tr>\n",
       "      <td>11</td>\n",
       "      <td>quality</td>\n",
       "      <td>200</td>\n",
       "    </tr>\n",
       "  </tbody>\n",
       "</table>\n",
       "</div>"
      ],
      "text/plain": [
       "                 Feature Number of Outliers\n",
       "0          fixed acidity                119\n",
       "1       volatile acidity                186\n",
       "2            citric acid                270\n",
       "3         residual sugar                  7\n",
       "4              chlorides                212\n",
       "5    free sulfur dioxide                 50\n",
       "6   total sulfur dioxide                 19\n",
       "7                density                  5\n",
       "8                     pH                 75\n",
       "9              sulphates                124\n",
       "10               alcohol                  0\n",
       "11               quality                200"
      ]
     },
     "execution_count": 25,
     "metadata": {},
     "output_type": "execute_result"
    }
   ],
   "source": [
    "# Function to detect outliers in every feature\n",
    "\n",
    "def detect_outliers(dataframe):\n",
    "    cols = list(dataframe)\n",
    "    outliers = pd.DataFrame(columns=['Feature','Number of Outliers'])\n",
    "    \n",
    "    for column in cols:\n",
    "        if column in dataframe.select_dtypes(include=np.number).columns:\n",
    "            # first quartile (Q1)\n",
    "            q1 = dataframe[column].quantile(0.25) \n",
    "            \n",
    "            # third quartile (Q3)\n",
    "            q3 = dataframe[column].quantile(0.75)\n",
    "            \n",
    "            # IQR\n",
    "            iqr = q3 - q1\n",
    "            \n",
    "            fence_low = q1 - (1.5*iqr)\n",
    "            fence_high = q3 + (1.5*iqr)\n",
    "            outliers = outliers.append({'Feature':column,'Number of Outliers':dataframe.loc[(dataframe[column] < fence_low) | (dataframe[column] > fence_high)].shape[0]},ignore_index=True)\n",
    "    return outliers\n",
    "\n",
    "detect_outliers(wdf)\n"
   ]
  },
  {
   "cell_type": "markdown",
   "metadata": {},
   "source": [
    "# Variable Transformation"
   ]
  },
  {
   "cell_type": "code",
   "execution_count": 26,
   "metadata": {},
   "outputs": [],
   "source": [
    "# Square root transformation to reduce skewness\n",
    "\n",
    "wdf['chlorides'] = np.sqrt(wdf['chlorides'])"
   ]
  },
  {
   "cell_type": "code",
   "execution_count": 27,
   "metadata": {},
   "outputs": [],
   "source": [
    "# Mapping different qualities of wine to 3 classes i.e Low(0), Medium(1) and High(2) \n",
    "\n",
    "bins = [0, 5.5, 7.5, 10]\n",
    "labels = [0, 1, 2]\n",
    "wdf['quality'] = pd.cut(wdf['quality'], bins=bins, labels=labels)"
   ]
  },
  {
   "cell_type": "markdown",
   "metadata": {},
   "source": [
    "# Preprocessing and  Model Building"
   ]
  },
  {
   "cell_type": "code",
   "execution_count": 28,
   "metadata": {},
   "outputs": [],
   "source": [
    "# Splitting the data into features and target\n",
    "\n",
    "X = wdf.drop(\"quality\",axis=1)\n",
    "y = wdf.quality\n",
    "\n",
    "X_train,X_test,y_train,y_test = train_test_split(X,y,test_size=0.2,random_state=0,stratify=y)"
   ]
  },
  {
   "cell_type": "markdown",
   "metadata": {},
   "source": [
    "# Feature Selection"
   ]
  },
  {
   "cell_type": "code",
   "execution_count": 29,
   "metadata": {},
   "outputs": [
    {
     "data": {
      "text/plain": [
       "alcohol                 0.155732\n",
       "volatile acidity        0.122744\n",
       "density                 0.092910\n",
       "citric acid             0.087293\n",
       "pH                      0.082547\n",
       "chlorides               0.081289\n",
       "fixed acidity           0.080475\n",
       "total sulfur dioxide    0.078268\n",
       "free sulfur dioxide     0.076893\n",
       "residual sugar          0.076278\n",
       "sulphates               0.065571\n",
       "dtype: float64"
      ]
     },
     "execution_count": 29,
     "metadata": {},
     "output_type": "execute_result"
    }
   ],
   "source": [
    "# Feature Ranking\n",
    "\n",
    "extra = ExtraTreeClassifier()\n",
    "extra.fit(X,y)\n",
    "ranked_features = pd.Series(extra.feature_importances_,index=X.columns).sort_values(ascending=False)\n",
    "ranked_features"
   ]
  },
  {
   "cell_type": "code",
   "execution_count": 30,
   "metadata": {},
   "outputs": [],
   "source": [
    "# Scaling the data\n",
    "\n",
    "minmax = MinMaxScaler()\n",
    "X_train_scaled = minmax.fit_transform(X_train)\n",
    "X_test_scaled = minmax.transform(X_test)"
   ]
  },
  {
   "cell_type": "code",
   "execution_count": 31,
   "metadata": {},
   "outputs": [
    {
     "data": {
      "text/plain": [
       "0.7244897959183674"
      ]
     },
     "execution_count": 31,
     "metadata": {},
     "output_type": "execute_result"
    }
   ],
   "source": [
    "# Logistic Regression\n",
    "\n",
    "clf = LogisticRegression()\n",
    "clf.fit(X_train_scaled,y_train)\n",
    "clf.score(X_test_scaled,y_test)"
   ]
  },
  {
   "cell_type": "code",
   "execution_count": 32,
   "metadata": {},
   "outputs": [
    {
     "data": {
      "text/plain": [
       "0.7704081632653061"
      ]
     },
     "execution_count": 32,
     "metadata": {},
     "output_type": "execute_result"
    }
   ],
   "source": [
    "# Decision Tree Classifier\n",
    "\n",
    "dt = DecisionTreeClassifier()\n",
    "dt.fit(X_train,y_train)\n",
    "dt.score(X_test,y_test)"
   ]
  },
  {
   "cell_type": "code",
   "execution_count": 33,
   "metadata": {},
   "outputs": [
    {
     "data": {
      "text/plain": [
       "0.6285714285714286"
      ]
     },
     "execution_count": 33,
     "metadata": {},
     "output_type": "execute_result"
    }
   ],
   "source": [
    "# Naive Bayes Multinomial\n",
    "\n",
    "mnclf = MultinomialNB()\n",
    "mnclf.fit(X_train_scaled,y_train)\n",
    "mnclf.score(X_test_scaled,y_test)"
   ]
  },
  {
   "cell_type": "code",
   "execution_count": 34,
   "metadata": {},
   "outputs": [
    {
     "data": {
      "text/plain": [
       "0.8193877551020409"
      ]
     },
     "execution_count": 34,
     "metadata": {},
     "output_type": "execute_result"
    }
   ],
   "source": [
    "# Random Forest\n",
    "\n",
    "rf = RandomForestClassifier()\n",
    "rf.fit(X_train,y_train)\n",
    "rf.score(X_test,y_test)"
   ]
  },
  {
   "cell_type": "code",
   "execution_count": 35,
   "metadata": {},
   "outputs": [],
   "source": [
    "# Hyperparamter Tuning\n",
    "\n",
    "n_estimators = [int(x) for x in np.linspace(start=50, stop=1000, num=10)]\n",
    "# number of features to consider at every split\n",
    "max_features = ['auto', 'sqrt']\n",
    "# max number of levels in tree\n",
    "max_depth = [int(x) for x in np.linspace(10, 110, num=10)] + [None]\n",
    "# min number of samples required to split a node\n",
    "min_samples_split = [2, 5, 10]\n",
    "# min number of samples required at each leaf node\n",
    "min_samples_leaf = [1, 2, 4]\n",
    "# method of selecting samples for training each tree\n",
    "bootstrap = [True, False]"
   ]
  },
  {
   "cell_type": "code",
   "execution_count": 36,
   "metadata": {},
   "outputs": [
    {
     "name": "stdout",
     "output_type": "stream",
     "text": [
      "Fitting 3 folds for each of 100 candidates, totalling 300 fits\n",
      "[CV] n_estimators=577, min_samples_split=5, min_samples_leaf=1, max_features=auto, max_depth=87, bootstrap=True \n"
     ]
    },
    {
     "name": "stderr",
     "output_type": "stream",
     "text": [
      "[Parallel(n_jobs=1)]: Using backend SequentialBackend with 1 concurrent workers.\n"
     ]
    },
    {
     "name": "stdout",
     "output_type": "stream",
     "text": [
      "[CV]  n_estimators=577, min_samples_split=5, min_samples_leaf=1, max_features=auto, max_depth=87, bootstrap=True, total=   3.3s\n",
      "[CV] n_estimators=577, min_samples_split=5, min_samples_leaf=1, max_features=auto, max_depth=87, bootstrap=True \n"
     ]
    },
    {
     "name": "stderr",
     "output_type": "stream",
     "text": [
      "[Parallel(n_jobs=1)]: Done   1 out of   1 | elapsed:    3.2s remaining:    0.0s\n"
     ]
    },
    {
     "name": "stdout",
     "output_type": "stream",
     "text": [
      "[CV]  n_estimators=577, min_samples_split=5, min_samples_leaf=1, max_features=auto, max_depth=87, bootstrap=True, total=   3.4s\n",
      "[CV] n_estimators=577, min_samples_split=5, min_samples_leaf=1, max_features=auto, max_depth=87, bootstrap=True \n",
      "[CV]  n_estimators=577, min_samples_split=5, min_samples_leaf=1, max_features=auto, max_depth=87, bootstrap=True, total=   3.4s\n",
      "[CV] n_estimators=366, min_samples_split=10, min_samples_leaf=4, max_features=sqrt, max_depth=110, bootstrap=True \n",
      "[CV]  n_estimators=366, min_samples_split=10, min_samples_leaf=4, max_features=sqrt, max_depth=110, bootstrap=True, total=   1.9s\n",
      "[CV] n_estimators=366, min_samples_split=10, min_samples_leaf=4, max_features=sqrt, max_depth=110, bootstrap=True \n",
      "[CV]  n_estimators=366, min_samples_split=10, min_samples_leaf=4, max_features=sqrt, max_depth=110, bootstrap=True, total=   1.9s\n",
      "[CV] n_estimators=366, min_samples_split=10, min_samples_leaf=4, max_features=sqrt, max_depth=110, bootstrap=True \n",
      "[CV]  n_estimators=366, min_samples_split=10, min_samples_leaf=4, max_features=sqrt, max_depth=110, bootstrap=True, total=   1.9s\n",
      "[CV] n_estimators=472, min_samples_split=10, min_samples_leaf=2, max_features=sqrt, max_depth=65, bootstrap=True \n",
      "[CV]  n_estimators=472, min_samples_split=10, min_samples_leaf=2, max_features=sqrt, max_depth=65, bootstrap=True, total=   2.6s\n",
      "[CV] n_estimators=472, min_samples_split=10, min_samples_leaf=2, max_features=sqrt, max_depth=65, bootstrap=True \n",
      "[CV]  n_estimators=472, min_samples_split=10, min_samples_leaf=2, max_features=sqrt, max_depth=65, bootstrap=True, total=   2.3s\n",
      "[CV] n_estimators=472, min_samples_split=10, min_samples_leaf=2, max_features=sqrt, max_depth=65, bootstrap=True \n",
      "[CV]  n_estimators=472, min_samples_split=10, min_samples_leaf=2, max_features=sqrt, max_depth=65, bootstrap=True, total=   2.5s\n",
      "[CV] n_estimators=894, min_samples_split=2, min_samples_leaf=4, max_features=auto, max_depth=21, bootstrap=True \n",
      "[CV]  n_estimators=894, min_samples_split=2, min_samples_leaf=4, max_features=auto, max_depth=21, bootstrap=True, total=   4.5s\n",
      "[CV] n_estimators=894, min_samples_split=2, min_samples_leaf=4, max_features=auto, max_depth=21, bootstrap=True \n",
      "[CV]  n_estimators=894, min_samples_split=2, min_samples_leaf=4, max_features=auto, max_depth=21, bootstrap=True, total=   4.3s\n",
      "[CV] n_estimators=894, min_samples_split=2, min_samples_leaf=4, max_features=auto, max_depth=21, bootstrap=True \n",
      "[CV]  n_estimators=894, min_samples_split=2, min_samples_leaf=4, max_features=auto, max_depth=21, bootstrap=True, total=   4.6s\n",
      "[CV] n_estimators=366, min_samples_split=2, min_samples_leaf=1, max_features=sqrt, max_depth=65, bootstrap=False \n",
      "[CV]  n_estimators=366, min_samples_split=2, min_samples_leaf=1, max_features=sqrt, max_depth=65, bootstrap=False, total=   3.2s\n",
      "[CV] n_estimators=366, min_samples_split=2, min_samples_leaf=1, max_features=sqrt, max_depth=65, bootstrap=False \n",
      "[CV]  n_estimators=366, min_samples_split=2, min_samples_leaf=1, max_features=sqrt, max_depth=65, bootstrap=False, total=   3.2s\n",
      "[CV] n_estimators=366, min_samples_split=2, min_samples_leaf=1, max_features=sqrt, max_depth=65, bootstrap=False \n",
      "[CV]  n_estimators=366, min_samples_split=2, min_samples_leaf=1, max_features=sqrt, max_depth=65, bootstrap=False, total=   3.0s\n",
      "[CV] n_estimators=472, min_samples_split=5, min_samples_leaf=2, max_features=auto, max_depth=21, bootstrap=True \n",
      "[CV]  n_estimators=472, min_samples_split=5, min_samples_leaf=2, max_features=auto, max_depth=21, bootstrap=True, total=   3.5s\n",
      "[CV] n_estimators=472, min_samples_split=5, min_samples_leaf=2, max_features=auto, max_depth=21, bootstrap=True \n",
      "[CV]  n_estimators=472, min_samples_split=5, min_samples_leaf=2, max_features=auto, max_depth=21, bootstrap=True, total=   3.8s\n",
      "[CV] n_estimators=472, min_samples_split=5, min_samples_leaf=2, max_features=auto, max_depth=21, bootstrap=True \n",
      "[CV]  n_estimators=472, min_samples_split=5, min_samples_leaf=2, max_features=auto, max_depth=21, bootstrap=True, total=   3.4s\n",
      "[CV] n_estimators=577, min_samples_split=5, min_samples_leaf=4, max_features=auto, max_depth=110, bootstrap=True \n",
      "[CV]  n_estimators=577, min_samples_split=5, min_samples_leaf=4, max_features=auto, max_depth=110, bootstrap=True, total=   3.3s\n",
      "[CV] n_estimators=577, min_samples_split=5, min_samples_leaf=4, max_features=auto, max_depth=110, bootstrap=True \n",
      "[CV]  n_estimators=577, min_samples_split=5, min_samples_leaf=4, max_features=auto, max_depth=110, bootstrap=True, total=   3.5s\n",
      "[CV] n_estimators=577, min_samples_split=5, min_samples_leaf=4, max_features=auto, max_depth=110, bootstrap=True \n",
      "[CV]  n_estimators=577, min_samples_split=5, min_samples_leaf=4, max_features=auto, max_depth=110, bootstrap=True, total=   3.4s\n",
      "[CV] n_estimators=261, min_samples_split=10, min_samples_leaf=4, max_features=sqrt, max_depth=43, bootstrap=False \n",
      "[CV]  n_estimators=261, min_samples_split=10, min_samples_leaf=4, max_features=sqrt, max_depth=43, bootstrap=False, total=   1.9s\n",
      "[CV] n_estimators=261, min_samples_split=10, min_samples_leaf=4, max_features=sqrt, max_depth=43, bootstrap=False \n",
      "[CV]  n_estimators=261, min_samples_split=10, min_samples_leaf=4, max_features=sqrt, max_depth=43, bootstrap=False, total=   2.2s\n",
      "[CV] n_estimators=261, min_samples_split=10, min_samples_leaf=4, max_features=sqrt, max_depth=43, bootstrap=False \n",
      "[CV]  n_estimators=261, min_samples_split=10, min_samples_leaf=4, max_features=sqrt, max_depth=43, bootstrap=False, total=   2.1s\n",
      "[CV] n_estimators=155, min_samples_split=2, min_samples_leaf=4, max_features=auto, max_depth=87, bootstrap=False \n",
      "[CV]  n_estimators=155, min_samples_split=2, min_samples_leaf=4, max_features=auto, max_depth=87, bootstrap=False, total=   1.3s\n",
      "[CV] n_estimators=155, min_samples_split=2, min_samples_leaf=4, max_features=auto, max_depth=87, bootstrap=False \n",
      "[CV]  n_estimators=155, min_samples_split=2, min_samples_leaf=4, max_features=auto, max_depth=87, bootstrap=False, total=   1.1s\n",
      "[CV] n_estimators=155, min_samples_split=2, min_samples_leaf=4, max_features=auto, max_depth=87, bootstrap=False \n",
      "[CV]  n_estimators=155, min_samples_split=2, min_samples_leaf=4, max_features=auto, max_depth=87, bootstrap=False, total=   1.1s\n",
      "[CV] n_estimators=50, min_samples_split=5, min_samples_leaf=4, max_features=auto, max_depth=87, bootstrap=True \n",
      "[CV]  n_estimators=50, min_samples_split=5, min_samples_leaf=4, max_features=auto, max_depth=87, bootstrap=True, total=   0.3s\n",
      "[CV] n_estimators=50, min_samples_split=5, min_samples_leaf=4, max_features=auto, max_depth=87, bootstrap=True \n",
      "[CV]  n_estimators=50, min_samples_split=5, min_samples_leaf=4, max_features=auto, max_depth=87, bootstrap=True, total=   0.3s\n",
      "[CV] n_estimators=50, min_samples_split=5, min_samples_leaf=4, max_features=auto, max_depth=87, bootstrap=True \n",
      "[CV]  n_estimators=50, min_samples_split=5, min_samples_leaf=4, max_features=auto, max_depth=87, bootstrap=True, total=   0.3s\n",
      "[CV] n_estimators=894, min_samples_split=2, min_samples_leaf=2, max_features=auto, max_depth=43, bootstrap=True \n",
      "[CV]  n_estimators=894, min_samples_split=2, min_samples_leaf=2, max_features=auto, max_depth=43, bootstrap=True, total=   5.3s\n",
      "[CV] n_estimators=894, min_samples_split=2, min_samples_leaf=2, max_features=auto, max_depth=43, bootstrap=True \n",
      "[CV]  n_estimators=894, min_samples_split=2, min_samples_leaf=2, max_features=auto, max_depth=43, bootstrap=True, total=   5.0s\n",
      "[CV] n_estimators=894, min_samples_split=2, min_samples_leaf=2, max_features=auto, max_depth=43, bootstrap=True \n",
      "[CV]  n_estimators=894, min_samples_split=2, min_samples_leaf=2, max_features=auto, max_depth=43, bootstrap=True, total=   5.0s\n",
      "[CV] n_estimators=1000, min_samples_split=10, min_samples_leaf=1, max_features=sqrt, max_depth=87, bootstrap=True \n",
      "[CV]  n_estimators=1000, min_samples_split=10, min_samples_leaf=1, max_features=sqrt, max_depth=87, bootstrap=True, total=   5.7s\n",
      "[CV] n_estimators=1000, min_samples_split=10, min_samples_leaf=1, max_features=sqrt, max_depth=87, bootstrap=True \n",
      "[CV]  n_estimators=1000, min_samples_split=10, min_samples_leaf=1, max_features=sqrt, max_depth=87, bootstrap=True, total=   5.4s\n",
      "[CV] n_estimators=1000, min_samples_split=10, min_samples_leaf=1, max_features=sqrt, max_depth=87, bootstrap=True \n"
     ]
    },
    {
     "name": "stdout",
     "output_type": "stream",
     "text": [
      "[CV]  n_estimators=1000, min_samples_split=10, min_samples_leaf=1, max_features=sqrt, max_depth=87, bootstrap=True, total=   5.4s\n",
      "[CV] n_estimators=577, min_samples_split=5, min_samples_leaf=1, max_features=auto, max_depth=54, bootstrap=True \n",
      "[CV]  n_estimators=577, min_samples_split=5, min_samples_leaf=1, max_features=auto, max_depth=54, bootstrap=True, total=   3.4s\n",
      "[CV] n_estimators=577, min_samples_split=5, min_samples_leaf=1, max_features=auto, max_depth=54, bootstrap=True \n",
      "[CV]  n_estimators=577, min_samples_split=5, min_samples_leaf=1, max_features=auto, max_depth=54, bootstrap=True, total=   3.3s\n",
      "[CV] n_estimators=577, min_samples_split=5, min_samples_leaf=1, max_features=auto, max_depth=54, bootstrap=True \n",
      "[CV]  n_estimators=577, min_samples_split=5, min_samples_leaf=1, max_features=auto, max_depth=54, bootstrap=True, total=   3.3s\n",
      "[CV] n_estimators=50, min_samples_split=10, min_samples_leaf=2, max_features=auto, max_depth=10, bootstrap=False \n",
      "[CV]  n_estimators=50, min_samples_split=10, min_samples_leaf=2, max_features=auto, max_depth=10, bootstrap=False, total=   0.3s\n",
      "[CV] n_estimators=50, min_samples_split=10, min_samples_leaf=2, max_features=auto, max_depth=10, bootstrap=False \n",
      "[CV]  n_estimators=50, min_samples_split=10, min_samples_leaf=2, max_features=auto, max_depth=10, bootstrap=False, total=   0.3s\n",
      "[CV] n_estimators=50, min_samples_split=10, min_samples_leaf=2, max_features=auto, max_depth=10, bootstrap=False \n",
      "[CV]  n_estimators=50, min_samples_split=10, min_samples_leaf=2, max_features=auto, max_depth=10, bootstrap=False, total=   0.3s\n",
      "[CV] n_estimators=1000, min_samples_split=10, min_samples_leaf=1, max_features=sqrt, max_depth=110, bootstrap=True \n",
      "[CV]  n_estimators=1000, min_samples_split=10, min_samples_leaf=1, max_features=sqrt, max_depth=110, bootstrap=True, total=   5.6s\n",
      "[CV] n_estimators=1000, min_samples_split=10, min_samples_leaf=1, max_features=sqrt, max_depth=110, bootstrap=True \n",
      "[CV]  n_estimators=1000, min_samples_split=10, min_samples_leaf=1, max_features=sqrt, max_depth=110, bootstrap=True, total=   5.3s\n",
      "[CV] n_estimators=1000, min_samples_split=10, min_samples_leaf=1, max_features=sqrt, max_depth=110, bootstrap=True \n",
      "[CV]  n_estimators=1000, min_samples_split=10, min_samples_leaf=1, max_features=sqrt, max_depth=110, bootstrap=True, total=   5.5s\n",
      "[CV] n_estimators=577, min_samples_split=2, min_samples_leaf=2, max_features=auto, max_depth=87, bootstrap=False \n",
      "[CV]  n_estimators=577, min_samples_split=2, min_samples_leaf=2, max_features=auto, max_depth=87, bootstrap=False, total=   4.5s\n",
      "[CV] n_estimators=577, min_samples_split=2, min_samples_leaf=2, max_features=auto, max_depth=87, bootstrap=False \n",
      "[CV]  n_estimators=577, min_samples_split=2, min_samples_leaf=2, max_features=auto, max_depth=87, bootstrap=False, total=   4.4s\n",
      "[CV] n_estimators=577, min_samples_split=2, min_samples_leaf=2, max_features=auto, max_depth=87, bootstrap=False \n",
      "[CV]  n_estimators=577, min_samples_split=2, min_samples_leaf=2, max_features=auto, max_depth=87, bootstrap=False, total=   4.4s\n",
      "[CV] n_estimators=577, min_samples_split=5, min_samples_leaf=1, max_features=sqrt, max_depth=32, bootstrap=True \n",
      "[CV]  n_estimators=577, min_samples_split=5, min_samples_leaf=1, max_features=sqrt, max_depth=32, bootstrap=True, total=   3.3s\n",
      "[CV] n_estimators=577, min_samples_split=5, min_samples_leaf=1, max_features=sqrt, max_depth=32, bootstrap=True \n",
      "[CV]  n_estimators=577, min_samples_split=5, min_samples_leaf=1, max_features=sqrt, max_depth=32, bootstrap=True, total=   3.2s\n",
      "[CV] n_estimators=577, min_samples_split=5, min_samples_leaf=1, max_features=sqrt, max_depth=32, bootstrap=True \n",
      "[CV]  n_estimators=577, min_samples_split=5, min_samples_leaf=1, max_features=sqrt, max_depth=32, bootstrap=True, total=   3.3s\n",
      "[CV] n_estimators=788, min_samples_split=5, min_samples_leaf=2, max_features=auto, max_depth=10, bootstrap=False \n",
      "[CV]  n_estimators=788, min_samples_split=5, min_samples_leaf=2, max_features=auto, max_depth=10, bootstrap=False, total=   4.6s\n",
      "[CV] n_estimators=788, min_samples_split=5, min_samples_leaf=2, max_features=auto, max_depth=10, bootstrap=False \n",
      "[CV]  n_estimators=788, min_samples_split=5, min_samples_leaf=2, max_features=auto, max_depth=10, bootstrap=False, total=   4.7s\n",
      "[CV] n_estimators=788, min_samples_split=5, min_samples_leaf=2, max_features=auto, max_depth=10, bootstrap=False \n",
      "[CV]  n_estimators=788, min_samples_split=5, min_samples_leaf=2, max_features=auto, max_depth=10, bootstrap=False, total=   4.7s\n",
      "[CV] n_estimators=155, min_samples_split=2, min_samples_leaf=2, max_features=auto, max_depth=54, bootstrap=True \n",
      "[CV]  n_estimators=155, min_samples_split=2, min_samples_leaf=2, max_features=auto, max_depth=54, bootstrap=True, total=   0.9s\n",
      "[CV] n_estimators=155, min_samples_split=2, min_samples_leaf=2, max_features=auto, max_depth=54, bootstrap=True \n",
      "[CV]  n_estimators=155, min_samples_split=2, min_samples_leaf=2, max_features=auto, max_depth=54, bootstrap=True, total=   0.8s\n",
      "[CV] n_estimators=155, min_samples_split=2, min_samples_leaf=2, max_features=auto, max_depth=54, bootstrap=True \n",
      "[CV]  n_estimators=155, min_samples_split=2, min_samples_leaf=2, max_features=auto, max_depth=54, bootstrap=True, total=   0.9s\n",
      "[CV] n_estimators=50, min_samples_split=2, min_samples_leaf=4, max_features=auto, max_depth=76, bootstrap=True \n",
      "[CV]  n_estimators=50, min_samples_split=2, min_samples_leaf=4, max_features=auto, max_depth=76, bootstrap=True, total=   0.3s\n",
      "[CV] n_estimators=50, min_samples_split=2, min_samples_leaf=4, max_features=auto, max_depth=76, bootstrap=True \n",
      "[CV]  n_estimators=50, min_samples_split=2, min_samples_leaf=4, max_features=auto, max_depth=76, bootstrap=True, total=   0.3s\n",
      "[CV] n_estimators=50, min_samples_split=2, min_samples_leaf=4, max_features=auto, max_depth=76, bootstrap=True \n",
      "[CV]  n_estimators=50, min_samples_split=2, min_samples_leaf=4, max_features=auto, max_depth=76, bootstrap=True, total=   0.3s\n",
      "[CV] n_estimators=788, min_samples_split=2, min_samples_leaf=4, max_features=auto, max_depth=87, bootstrap=True \n",
      "[CV]  n_estimators=788, min_samples_split=2, min_samples_leaf=4, max_features=auto, max_depth=87, bootstrap=True, total=   4.0s\n",
      "[CV] n_estimators=788, min_samples_split=2, min_samples_leaf=4, max_features=auto, max_depth=87, bootstrap=True \n",
      "[CV]  n_estimators=788, min_samples_split=2, min_samples_leaf=4, max_features=auto, max_depth=87, bootstrap=True, total=   3.9s\n",
      "[CV] n_estimators=788, min_samples_split=2, min_samples_leaf=4, max_features=auto, max_depth=87, bootstrap=True \n",
      "[CV]  n_estimators=788, min_samples_split=2, min_samples_leaf=4, max_features=auto, max_depth=87, bootstrap=True, total=   4.0s\n",
      "[CV] n_estimators=261, min_samples_split=5, min_samples_leaf=1, max_features=auto, max_depth=76, bootstrap=False \n",
      "[CV]  n_estimators=261, min_samples_split=5, min_samples_leaf=1, max_features=auto, max_depth=76, bootstrap=False, total=   2.1s\n",
      "[CV] n_estimators=261, min_samples_split=5, min_samples_leaf=1, max_features=auto, max_depth=76, bootstrap=False \n",
      "[CV]  n_estimators=261, min_samples_split=5, min_samples_leaf=1, max_features=auto, max_depth=76, bootstrap=False, total=   2.0s\n",
      "[CV] n_estimators=261, min_samples_split=5, min_samples_leaf=1, max_features=auto, max_depth=76, bootstrap=False \n",
      "[CV]  n_estimators=261, min_samples_split=5, min_samples_leaf=1, max_features=auto, max_depth=76, bootstrap=False, total=   2.1s\n",
      "[CV] n_estimators=155, min_samples_split=2, min_samples_leaf=2, max_features=auto, max_depth=10, bootstrap=True \n",
      "[CV]  n_estimators=155, min_samples_split=2, min_samples_leaf=2, max_features=auto, max_depth=10, bootstrap=True, total=   0.7s\n",
      "[CV] n_estimators=155, min_samples_split=2, min_samples_leaf=2, max_features=auto, max_depth=10, bootstrap=True \n",
      "[CV]  n_estimators=155, min_samples_split=2, min_samples_leaf=2, max_features=auto, max_depth=10, bootstrap=True, total=   0.7s\n",
      "[CV] n_estimators=155, min_samples_split=2, min_samples_leaf=2, max_features=auto, max_depth=10, bootstrap=True \n",
      "[CV]  n_estimators=155, min_samples_split=2, min_samples_leaf=2, max_features=auto, max_depth=10, bootstrap=True, total=   0.7s\n",
      "[CV] n_estimators=1000, min_samples_split=5, min_samples_leaf=2, max_features=auto, max_depth=87, bootstrap=False \n"
     ]
    },
    {
     "name": "stdout",
     "output_type": "stream",
     "text": [
      "[CV]  n_estimators=1000, min_samples_split=5, min_samples_leaf=2, max_features=auto, max_depth=87, bootstrap=False, total=   7.7s\n",
      "[CV] n_estimators=1000, min_samples_split=5, min_samples_leaf=2, max_features=auto, max_depth=87, bootstrap=False \n",
      "[CV]  n_estimators=1000, min_samples_split=5, min_samples_leaf=2, max_features=auto, max_depth=87, bootstrap=False, total=   7.4s\n",
      "[CV] n_estimators=1000, min_samples_split=5, min_samples_leaf=2, max_features=auto, max_depth=87, bootstrap=False \n",
      "[CV]  n_estimators=1000, min_samples_split=5, min_samples_leaf=2, max_features=auto, max_depth=87, bootstrap=False, total=   7.6s\n",
      "[CV] n_estimators=788, min_samples_split=5, min_samples_leaf=2, max_features=sqrt, max_depth=110, bootstrap=True \n",
      "[CV]  n_estimators=788, min_samples_split=5, min_samples_leaf=2, max_features=sqrt, max_depth=110, bootstrap=True, total=   4.4s\n",
      "[CV] n_estimators=788, min_samples_split=5, min_samples_leaf=2, max_features=sqrt, max_depth=110, bootstrap=True \n",
      "[CV]  n_estimators=788, min_samples_split=5, min_samples_leaf=2, max_features=sqrt, max_depth=110, bootstrap=True, total=   4.3s\n",
      "[CV] n_estimators=788, min_samples_split=5, min_samples_leaf=2, max_features=sqrt, max_depth=110, bootstrap=True \n",
      "[CV]  n_estimators=788, min_samples_split=5, min_samples_leaf=2, max_features=sqrt, max_depth=110, bootstrap=True, total=   4.3s\n",
      "[CV] n_estimators=472, min_samples_split=2, min_samples_leaf=2, max_features=sqrt, max_depth=98, bootstrap=True \n",
      "[CV]  n_estimators=472, min_samples_split=2, min_samples_leaf=2, max_features=sqrt, max_depth=98, bootstrap=True, total=   2.6s\n",
      "[CV] n_estimators=472, min_samples_split=2, min_samples_leaf=2, max_features=sqrt, max_depth=98, bootstrap=True \n",
      "[CV]  n_estimators=472, min_samples_split=2, min_samples_leaf=2, max_features=sqrt, max_depth=98, bootstrap=True, total=   2.6s\n",
      "[CV] n_estimators=472, min_samples_split=2, min_samples_leaf=2, max_features=sqrt, max_depth=98, bootstrap=True \n",
      "[CV]  n_estimators=472, min_samples_split=2, min_samples_leaf=2, max_features=sqrt, max_depth=98, bootstrap=True, total=   2.6s\n",
      "[CV] n_estimators=577, min_samples_split=2, min_samples_leaf=1, max_features=sqrt, max_depth=54, bootstrap=False \n",
      "[CV]  n_estimators=577, min_samples_split=2, min_samples_leaf=1, max_features=sqrt, max_depth=54, bootstrap=False, total=   4.9s\n",
      "[CV] n_estimators=577, min_samples_split=2, min_samples_leaf=1, max_features=sqrt, max_depth=54, bootstrap=False \n",
      "[CV]  n_estimators=577, min_samples_split=2, min_samples_leaf=1, max_features=sqrt, max_depth=54, bootstrap=False, total=   5.0s\n",
      "[CV] n_estimators=577, min_samples_split=2, min_samples_leaf=1, max_features=sqrt, max_depth=54, bootstrap=False \n",
      "[CV]  n_estimators=577, min_samples_split=2, min_samples_leaf=1, max_features=sqrt, max_depth=54, bootstrap=False, total=   4.6s\n",
      "[CV] n_estimators=788, min_samples_split=5, min_samples_leaf=1, max_features=sqrt, max_depth=87, bootstrap=True \n",
      "[CV]  n_estimators=788, min_samples_split=5, min_samples_leaf=1, max_features=sqrt, max_depth=87, bootstrap=True, total=   4.4s\n",
      "[CV] n_estimators=788, min_samples_split=5, min_samples_leaf=1, max_features=sqrt, max_depth=87, bootstrap=True \n",
      "[CV]  n_estimators=788, min_samples_split=5, min_samples_leaf=1, max_features=sqrt, max_depth=87, bootstrap=True, total=   4.4s\n",
      "[CV] n_estimators=788, min_samples_split=5, min_samples_leaf=1, max_features=sqrt, max_depth=87, bootstrap=True \n",
      "[CV]  n_estimators=788, min_samples_split=5, min_samples_leaf=1, max_features=sqrt, max_depth=87, bootstrap=True, total=   4.8s\n",
      "[CV] n_estimators=50, min_samples_split=2, min_samples_leaf=1, max_features=sqrt, max_depth=98, bootstrap=True \n",
      "[CV]  n_estimators=50, min_samples_split=2, min_samples_leaf=1, max_features=sqrt, max_depth=98, bootstrap=True, total=   0.3s\n",
      "[CV] n_estimators=50, min_samples_split=2, min_samples_leaf=1, max_features=sqrt, max_depth=98, bootstrap=True \n",
      "[CV]  n_estimators=50, min_samples_split=2, min_samples_leaf=1, max_features=sqrt, max_depth=98, bootstrap=True, total=   0.3s\n",
      "[CV] n_estimators=50, min_samples_split=2, min_samples_leaf=1, max_features=sqrt, max_depth=98, bootstrap=True \n",
      "[CV]  n_estimators=50, min_samples_split=2, min_samples_leaf=1, max_features=sqrt, max_depth=98, bootstrap=True, total=   0.3s\n",
      "[CV] n_estimators=1000, min_samples_split=10, min_samples_leaf=2, max_features=sqrt, max_depth=43, bootstrap=False \n",
      "[CV]  n_estimators=1000, min_samples_split=10, min_samples_leaf=2, max_features=sqrt, max_depth=43, bootstrap=False, total=   7.4s\n",
      "[CV] n_estimators=1000, min_samples_split=10, min_samples_leaf=2, max_features=sqrt, max_depth=43, bootstrap=False \n",
      "[CV]  n_estimators=1000, min_samples_split=10, min_samples_leaf=2, max_features=sqrt, max_depth=43, bootstrap=False, total=   6.8s\n",
      "[CV] n_estimators=1000, min_samples_split=10, min_samples_leaf=2, max_features=sqrt, max_depth=43, bootstrap=False \n",
      "[CV]  n_estimators=1000, min_samples_split=10, min_samples_leaf=2, max_features=sqrt, max_depth=43, bootstrap=False, total=   7.1s\n",
      "[CV] n_estimators=788, min_samples_split=5, min_samples_leaf=1, max_features=auto, max_depth=87, bootstrap=True \n",
      "[CV]  n_estimators=788, min_samples_split=5, min_samples_leaf=1, max_features=auto, max_depth=87, bootstrap=True, total=   4.7s\n",
      "[CV] n_estimators=788, min_samples_split=5, min_samples_leaf=1, max_features=auto, max_depth=87, bootstrap=True \n",
      "[CV]  n_estimators=788, min_samples_split=5, min_samples_leaf=1, max_features=auto, max_depth=87, bootstrap=True, total=   4.4s\n",
      "[CV] n_estimators=788, min_samples_split=5, min_samples_leaf=1, max_features=auto, max_depth=87, bootstrap=True \n",
      "[CV]  n_estimators=788, min_samples_split=5, min_samples_leaf=1, max_features=auto, max_depth=87, bootstrap=True, total=   4.4s\n",
      "[CV] n_estimators=683, min_samples_split=10, min_samples_leaf=2, max_features=sqrt, max_depth=21, bootstrap=True \n",
      "[CV]  n_estimators=683, min_samples_split=10, min_samples_leaf=2, max_features=sqrt, max_depth=21, bootstrap=True, total=   3.4s\n",
      "[CV] n_estimators=683, min_samples_split=10, min_samples_leaf=2, max_features=sqrt, max_depth=21, bootstrap=True \n",
      "[CV]  n_estimators=683, min_samples_split=10, min_samples_leaf=2, max_features=sqrt, max_depth=21, bootstrap=True, total=   3.3s\n",
      "[CV] n_estimators=683, min_samples_split=10, min_samples_leaf=2, max_features=sqrt, max_depth=21, bootstrap=True \n",
      "[CV]  n_estimators=683, min_samples_split=10, min_samples_leaf=2, max_features=sqrt, max_depth=21, bootstrap=True, total=   3.4s\n",
      "[CV] n_estimators=261, min_samples_split=2, min_samples_leaf=2, max_features=sqrt, max_depth=None, bootstrap=True \n",
      "[CV]  n_estimators=261, min_samples_split=2, min_samples_leaf=2, max_features=sqrt, max_depth=None, bootstrap=True, total=   1.5s\n",
      "[CV] n_estimators=261, min_samples_split=2, min_samples_leaf=2, max_features=sqrt, max_depth=None, bootstrap=True \n",
      "[CV]  n_estimators=261, min_samples_split=2, min_samples_leaf=2, max_features=sqrt, max_depth=None, bootstrap=True, total=   1.6s\n",
      "[CV] n_estimators=261, min_samples_split=2, min_samples_leaf=2, max_features=sqrt, max_depth=None, bootstrap=True \n",
      "[CV]  n_estimators=261, min_samples_split=2, min_samples_leaf=2, max_features=sqrt, max_depth=None, bootstrap=True, total=   1.5s\n",
      "[CV] n_estimators=894, min_samples_split=2, min_samples_leaf=2, max_features=sqrt, max_depth=87, bootstrap=True \n",
      "[CV]  n_estimators=894, min_samples_split=2, min_samples_leaf=2, max_features=sqrt, max_depth=87, bootstrap=True, total=   5.1s\n",
      "[CV] n_estimators=894, min_samples_split=2, min_samples_leaf=2, max_features=sqrt, max_depth=87, bootstrap=True \n",
      "[CV]  n_estimators=894, min_samples_split=2, min_samples_leaf=2, max_features=sqrt, max_depth=87, bootstrap=True, total=   4.9s\n",
      "[CV] n_estimators=894, min_samples_split=2, min_samples_leaf=2, max_features=sqrt, max_depth=87, bootstrap=True \n",
      "[CV]  n_estimators=894, min_samples_split=2, min_samples_leaf=2, max_features=sqrt, max_depth=87, bootstrap=True, total=   5.1s\n",
      "[CV] n_estimators=577, min_samples_split=5, min_samples_leaf=2, max_features=sqrt, max_depth=43, bootstrap=True \n",
      "[CV]  n_estimators=577, min_samples_split=5, min_samples_leaf=2, max_features=sqrt, max_depth=43, bootstrap=True, total=   3.3s\n",
      "[CV] n_estimators=577, min_samples_split=5, min_samples_leaf=2, max_features=sqrt, max_depth=43, bootstrap=True \n"
     ]
    },
    {
     "name": "stdout",
     "output_type": "stream",
     "text": [
      "[CV]  n_estimators=577, min_samples_split=5, min_samples_leaf=2, max_features=sqrt, max_depth=43, bootstrap=True, total=   3.1s\n",
      "[CV] n_estimators=577, min_samples_split=5, min_samples_leaf=2, max_features=sqrt, max_depth=43, bootstrap=True \n",
      "[CV]  n_estimators=577, min_samples_split=5, min_samples_leaf=2, max_features=sqrt, max_depth=43, bootstrap=True, total=   3.2s\n",
      "[CV] n_estimators=894, min_samples_split=10, min_samples_leaf=1, max_features=sqrt, max_depth=None, bootstrap=True \n",
      "[CV]  n_estimators=894, min_samples_split=10, min_samples_leaf=1, max_features=sqrt, max_depth=None, bootstrap=True, total=   5.2s\n",
      "[CV] n_estimators=894, min_samples_split=10, min_samples_leaf=1, max_features=sqrt, max_depth=None, bootstrap=True \n",
      "[CV]  n_estimators=894, min_samples_split=10, min_samples_leaf=1, max_features=sqrt, max_depth=None, bootstrap=True, total=   4.8s\n",
      "[CV] n_estimators=894, min_samples_split=10, min_samples_leaf=1, max_features=sqrt, max_depth=None, bootstrap=True \n",
      "[CV]  n_estimators=894, min_samples_split=10, min_samples_leaf=1, max_features=sqrt, max_depth=None, bootstrap=True, total=   5.2s\n",
      "[CV] n_estimators=472, min_samples_split=10, min_samples_leaf=1, max_features=auto, max_depth=10, bootstrap=False \n",
      "[CV]  n_estimators=472, min_samples_split=10, min_samples_leaf=1, max_features=auto, max_depth=10, bootstrap=False, total=   2.7s\n",
      "[CV] n_estimators=472, min_samples_split=10, min_samples_leaf=1, max_features=auto, max_depth=10, bootstrap=False \n",
      "[CV]  n_estimators=472, min_samples_split=10, min_samples_leaf=1, max_features=auto, max_depth=10, bootstrap=False, total=   2.8s\n",
      "[CV] n_estimators=472, min_samples_split=10, min_samples_leaf=1, max_features=auto, max_depth=10, bootstrap=False \n",
      "[CV]  n_estimators=472, min_samples_split=10, min_samples_leaf=1, max_features=auto, max_depth=10, bootstrap=False, total=   2.6s\n",
      "[CV] n_estimators=1000, min_samples_split=5, min_samples_leaf=1, max_features=sqrt, max_depth=43, bootstrap=False \n",
      "[CV]  n_estimators=1000, min_samples_split=5, min_samples_leaf=1, max_features=sqrt, max_depth=43, bootstrap=False, total=   7.6s\n",
      "[CV] n_estimators=1000, min_samples_split=5, min_samples_leaf=1, max_features=sqrt, max_depth=43, bootstrap=False \n",
      "[CV]  n_estimators=1000, min_samples_split=5, min_samples_leaf=1, max_features=sqrt, max_depth=43, bootstrap=False, total=   7.5s\n",
      "[CV] n_estimators=1000, min_samples_split=5, min_samples_leaf=1, max_features=sqrt, max_depth=43, bootstrap=False \n",
      "[CV]  n_estimators=1000, min_samples_split=5, min_samples_leaf=1, max_features=sqrt, max_depth=43, bootstrap=False, total=   7.7s\n",
      "[CV] n_estimators=577, min_samples_split=10, min_samples_leaf=1, max_features=auto, max_depth=32, bootstrap=False \n",
      "[CV]  n_estimators=577, min_samples_split=10, min_samples_leaf=1, max_features=auto, max_depth=32, bootstrap=False, total=   4.6s\n",
      "[CV] n_estimators=577, min_samples_split=10, min_samples_leaf=1, max_features=auto, max_depth=32, bootstrap=False \n",
      "[CV]  n_estimators=577, min_samples_split=10, min_samples_leaf=1, max_features=auto, max_depth=32, bootstrap=False, total=   4.4s\n",
      "[CV] n_estimators=577, min_samples_split=10, min_samples_leaf=1, max_features=auto, max_depth=32, bootstrap=False \n",
      "[CV]  n_estimators=577, min_samples_split=10, min_samples_leaf=1, max_features=auto, max_depth=32, bootstrap=False, total=   4.1s\n",
      "[CV] n_estimators=50, min_samples_split=5, min_samples_leaf=4, max_features=sqrt, max_depth=87, bootstrap=False \n",
      "[CV]  n_estimators=50, min_samples_split=5, min_samples_leaf=4, max_features=sqrt, max_depth=87, bootstrap=False, total=   0.3s\n",
      "[CV] n_estimators=50, min_samples_split=5, min_samples_leaf=4, max_features=sqrt, max_depth=87, bootstrap=False \n",
      "[CV]  n_estimators=50, min_samples_split=5, min_samples_leaf=4, max_features=sqrt, max_depth=87, bootstrap=False, total=   0.3s\n",
      "[CV] n_estimators=50, min_samples_split=5, min_samples_leaf=4, max_features=sqrt, max_depth=87, bootstrap=False \n",
      "[CV]  n_estimators=50, min_samples_split=5, min_samples_leaf=4, max_features=sqrt, max_depth=87, bootstrap=False, total=   0.3s\n",
      "[CV] n_estimators=155, min_samples_split=2, min_samples_leaf=2, max_features=sqrt, max_depth=32, bootstrap=True \n",
      "[CV]  n_estimators=155, min_samples_split=2, min_samples_leaf=2, max_features=sqrt, max_depth=32, bootstrap=True, total=   0.8s\n",
      "[CV] n_estimators=155, min_samples_split=2, min_samples_leaf=2, max_features=sqrt, max_depth=32, bootstrap=True \n",
      "[CV]  n_estimators=155, min_samples_split=2, min_samples_leaf=2, max_features=sqrt, max_depth=32, bootstrap=True, total=   0.8s\n",
      "[CV] n_estimators=155, min_samples_split=2, min_samples_leaf=2, max_features=sqrt, max_depth=32, bootstrap=True \n",
      "[CV]  n_estimators=155, min_samples_split=2, min_samples_leaf=2, max_features=sqrt, max_depth=32, bootstrap=True, total=   0.8s\n",
      "[CV] n_estimators=1000, min_samples_split=10, min_samples_leaf=2, max_features=auto, max_depth=32, bootstrap=False \n",
      "[CV]  n_estimators=1000, min_samples_split=10, min_samples_leaf=2, max_features=auto, max_depth=32, bootstrap=False, total=   7.0s\n",
      "[CV] n_estimators=1000, min_samples_split=10, min_samples_leaf=2, max_features=auto, max_depth=32, bootstrap=False \n",
      "[CV]  n_estimators=1000, min_samples_split=10, min_samples_leaf=2, max_features=auto, max_depth=32, bootstrap=False, total=   6.8s\n",
      "[CV] n_estimators=1000, min_samples_split=10, min_samples_leaf=2, max_features=auto, max_depth=32, bootstrap=False \n",
      "[CV]  n_estimators=1000, min_samples_split=10, min_samples_leaf=2, max_features=auto, max_depth=32, bootstrap=False, total=   6.9s\n",
      "[CV] n_estimators=894, min_samples_split=5, min_samples_leaf=4, max_features=sqrt, max_depth=65, bootstrap=True \n",
      "[CV]  n_estimators=894, min_samples_split=5, min_samples_leaf=4, max_features=sqrt, max_depth=65, bootstrap=True, total=   4.2s\n",
      "[CV] n_estimators=894, min_samples_split=5, min_samples_leaf=4, max_features=sqrt, max_depth=65, bootstrap=True \n",
      "[CV]  n_estimators=894, min_samples_split=5, min_samples_leaf=4, max_features=sqrt, max_depth=65, bootstrap=True, total=   4.2s\n",
      "[CV] n_estimators=894, min_samples_split=5, min_samples_leaf=4, max_features=sqrt, max_depth=65, bootstrap=True \n",
      "[CV]  n_estimators=894, min_samples_split=5, min_samples_leaf=4, max_features=sqrt, max_depth=65, bootstrap=True, total=   4.5s\n",
      "[CV] n_estimators=261, min_samples_split=10, min_samples_leaf=2, max_features=sqrt, max_depth=None, bootstrap=False \n",
      "[CV]  n_estimators=261, min_samples_split=10, min_samples_leaf=2, max_features=sqrt, max_depth=None, bootstrap=False, total=   2.2s\n",
      "[CV] n_estimators=261, min_samples_split=10, min_samples_leaf=2, max_features=sqrt, max_depth=None, bootstrap=False \n",
      "[CV]  n_estimators=261, min_samples_split=10, min_samples_leaf=2, max_features=sqrt, max_depth=None, bootstrap=False, total=   2.0s\n",
      "[CV] n_estimators=261, min_samples_split=10, min_samples_leaf=2, max_features=sqrt, max_depth=None, bootstrap=False \n",
      "[CV]  n_estimators=261, min_samples_split=10, min_samples_leaf=2, max_features=sqrt, max_depth=None, bootstrap=False, total=   2.0s\n",
      "[CV] n_estimators=261, min_samples_split=5, min_samples_leaf=4, max_features=sqrt, max_depth=98, bootstrap=False \n",
      "[CV]  n_estimators=261, min_samples_split=5, min_samples_leaf=4, max_features=sqrt, max_depth=98, bootstrap=False, total=   1.9s\n",
      "[CV] n_estimators=261, min_samples_split=5, min_samples_leaf=4, max_features=sqrt, max_depth=98, bootstrap=False \n",
      "[CV]  n_estimators=261, min_samples_split=5, min_samples_leaf=4, max_features=sqrt, max_depth=98, bootstrap=False, total=   1.8s\n",
      "[CV] n_estimators=261, min_samples_split=5, min_samples_leaf=4, max_features=sqrt, max_depth=98, bootstrap=False \n",
      "[CV]  n_estimators=261, min_samples_split=5, min_samples_leaf=4, max_features=sqrt, max_depth=98, bootstrap=False, total=   1.8s\n",
      "[CV] n_estimators=894, min_samples_split=10, min_samples_leaf=2, max_features=sqrt, max_depth=None, bootstrap=True \n",
      "[CV]  n_estimators=894, min_samples_split=10, min_samples_leaf=2, max_features=sqrt, max_depth=None, bootstrap=True, total=   4.8s\n",
      "[CV] n_estimators=894, min_samples_split=10, min_samples_leaf=2, max_features=sqrt, max_depth=None, bootstrap=True \n",
      "[CV]  n_estimators=894, min_samples_split=10, min_samples_leaf=2, max_features=sqrt, max_depth=None, bootstrap=True, total=   4.7s\n",
      "[CV] n_estimators=894, min_samples_split=10, min_samples_leaf=2, max_features=sqrt, max_depth=None, bootstrap=True \n"
     ]
    },
    {
     "name": "stdout",
     "output_type": "stream",
     "text": [
      "[CV]  n_estimators=894, min_samples_split=10, min_samples_leaf=2, max_features=sqrt, max_depth=None, bootstrap=True, total=   4.7s\n",
      "[CV] n_estimators=155, min_samples_split=5, min_samples_leaf=2, max_features=sqrt, max_depth=87, bootstrap=False \n",
      "[CV]  n_estimators=155, min_samples_split=5, min_samples_leaf=2, max_features=sqrt, max_depth=87, bootstrap=False, total=   1.2s\n",
      "[CV] n_estimators=155, min_samples_split=5, min_samples_leaf=2, max_features=sqrt, max_depth=87, bootstrap=False \n",
      "[CV]  n_estimators=155, min_samples_split=5, min_samples_leaf=2, max_features=sqrt, max_depth=87, bootstrap=False, total=   1.2s\n",
      "[CV] n_estimators=155, min_samples_split=5, min_samples_leaf=2, max_features=sqrt, max_depth=87, bootstrap=False \n",
      "[CV]  n_estimators=155, min_samples_split=5, min_samples_leaf=2, max_features=sqrt, max_depth=87, bootstrap=False, total=   1.2s\n",
      "[CV] n_estimators=894, min_samples_split=10, min_samples_leaf=4, max_features=auto, max_depth=10, bootstrap=True \n",
      "[CV]  n_estimators=894, min_samples_split=10, min_samples_leaf=4, max_features=auto, max_depth=10, bootstrap=True, total=   3.9s\n",
      "[CV] n_estimators=894, min_samples_split=10, min_samples_leaf=4, max_features=auto, max_depth=10, bootstrap=True \n",
      "[CV]  n_estimators=894, min_samples_split=10, min_samples_leaf=4, max_features=auto, max_depth=10, bootstrap=True, total=   3.9s\n",
      "[CV] n_estimators=894, min_samples_split=10, min_samples_leaf=4, max_features=auto, max_depth=10, bootstrap=True \n",
      "[CV]  n_estimators=894, min_samples_split=10, min_samples_leaf=4, max_features=auto, max_depth=10, bootstrap=True, total=   4.0s\n",
      "[CV] n_estimators=788, min_samples_split=5, min_samples_leaf=2, max_features=sqrt, max_depth=None, bootstrap=False \n",
      "[CV]  n_estimators=788, min_samples_split=5, min_samples_leaf=2, max_features=sqrt, max_depth=None, bootstrap=False, total=   6.1s\n",
      "[CV] n_estimators=788, min_samples_split=5, min_samples_leaf=2, max_features=sqrt, max_depth=None, bootstrap=False \n",
      "[CV]  n_estimators=788, min_samples_split=5, min_samples_leaf=2, max_features=sqrt, max_depth=None, bootstrap=False, total=   5.9s\n",
      "[CV] n_estimators=788, min_samples_split=5, min_samples_leaf=2, max_features=sqrt, max_depth=None, bootstrap=False \n",
      "[CV]  n_estimators=788, min_samples_split=5, min_samples_leaf=2, max_features=sqrt, max_depth=None, bootstrap=False, total=   6.0s\n",
      "[CV] n_estimators=261, min_samples_split=10, min_samples_leaf=2, max_features=sqrt, max_depth=10, bootstrap=True \n",
      "[CV]  n_estimators=261, min_samples_split=10, min_samples_leaf=2, max_features=sqrt, max_depth=10, bootstrap=True, total=   1.2s\n",
      "[CV] n_estimators=261, min_samples_split=10, min_samples_leaf=2, max_features=sqrt, max_depth=10, bootstrap=True \n",
      "[CV]  n_estimators=261, min_samples_split=10, min_samples_leaf=2, max_features=sqrt, max_depth=10, bootstrap=True, total=   1.2s\n",
      "[CV] n_estimators=261, min_samples_split=10, min_samples_leaf=2, max_features=sqrt, max_depth=10, bootstrap=True \n",
      "[CV]  n_estimators=261, min_samples_split=10, min_samples_leaf=2, max_features=sqrt, max_depth=10, bootstrap=True, total=   1.2s\n",
      "[CV] n_estimators=50, min_samples_split=10, min_samples_leaf=1, max_features=auto, max_depth=98, bootstrap=True \n",
      "[CV]  n_estimators=50, min_samples_split=10, min_samples_leaf=1, max_features=auto, max_depth=98, bootstrap=True, total=   0.3s\n",
      "[CV] n_estimators=50, min_samples_split=10, min_samples_leaf=1, max_features=auto, max_depth=98, bootstrap=True \n",
      "[CV]  n_estimators=50, min_samples_split=10, min_samples_leaf=1, max_features=auto, max_depth=98, bootstrap=True, total=   0.3s\n",
      "[CV] n_estimators=50, min_samples_split=10, min_samples_leaf=1, max_features=auto, max_depth=98, bootstrap=True \n",
      "[CV]  n_estimators=50, min_samples_split=10, min_samples_leaf=1, max_features=auto, max_depth=98, bootstrap=True, total=   0.3s\n",
      "[CV] n_estimators=788, min_samples_split=2, min_samples_leaf=4, max_features=sqrt, max_depth=None, bootstrap=True \n",
      "[CV]  n_estimators=788, min_samples_split=2, min_samples_leaf=4, max_features=sqrt, max_depth=None, bootstrap=True, total=   4.0s\n",
      "[CV] n_estimators=788, min_samples_split=2, min_samples_leaf=4, max_features=sqrt, max_depth=None, bootstrap=True \n",
      "[CV]  n_estimators=788, min_samples_split=2, min_samples_leaf=4, max_features=sqrt, max_depth=None, bootstrap=True, total=   3.9s\n",
      "[CV] n_estimators=788, min_samples_split=2, min_samples_leaf=4, max_features=sqrt, max_depth=None, bootstrap=True \n",
      "[CV]  n_estimators=788, min_samples_split=2, min_samples_leaf=4, max_features=sqrt, max_depth=None, bootstrap=True, total=   4.0s\n",
      "[CV] n_estimators=683, min_samples_split=5, min_samples_leaf=4, max_features=auto, max_depth=None, bootstrap=False \n",
      "[CV]  n_estimators=683, min_samples_split=5, min_samples_leaf=4, max_features=auto, max_depth=None, bootstrap=False, total=   4.9s\n",
      "[CV] n_estimators=683, min_samples_split=5, min_samples_leaf=4, max_features=auto, max_depth=None, bootstrap=False \n",
      "[CV]  n_estimators=683, min_samples_split=5, min_samples_leaf=4, max_features=auto, max_depth=None, bootstrap=False, total=   4.7s\n",
      "[CV] n_estimators=683, min_samples_split=5, min_samples_leaf=4, max_features=auto, max_depth=None, bootstrap=False \n",
      "[CV]  n_estimators=683, min_samples_split=5, min_samples_leaf=4, max_features=auto, max_depth=None, bootstrap=False, total=   4.8s\n",
      "[CV] n_estimators=261, min_samples_split=2, min_samples_leaf=1, max_features=sqrt, max_depth=None, bootstrap=True \n",
      "[CV]  n_estimators=261, min_samples_split=2, min_samples_leaf=1, max_features=sqrt, max_depth=None, bootstrap=True, total=   1.6s\n",
      "[CV] n_estimators=261, min_samples_split=2, min_samples_leaf=1, max_features=sqrt, max_depth=None, bootstrap=True \n",
      "[CV]  n_estimators=261, min_samples_split=2, min_samples_leaf=1, max_features=sqrt, max_depth=None, bootstrap=True, total=   1.5s\n",
      "[CV] n_estimators=261, min_samples_split=2, min_samples_leaf=1, max_features=sqrt, max_depth=None, bootstrap=True \n",
      "[CV]  n_estimators=261, min_samples_split=2, min_samples_leaf=1, max_features=sqrt, max_depth=None, bootstrap=True, total=   1.5s\n",
      "[CV] n_estimators=155, min_samples_split=2, min_samples_leaf=1, max_features=auto, max_depth=87, bootstrap=True \n",
      "[CV]  n_estimators=155, min_samples_split=2, min_samples_leaf=1, max_features=auto, max_depth=87, bootstrap=True, total=   1.0s\n",
      "[CV] n_estimators=155, min_samples_split=2, min_samples_leaf=1, max_features=auto, max_depth=87, bootstrap=True \n",
      "[CV]  n_estimators=155, min_samples_split=2, min_samples_leaf=1, max_features=auto, max_depth=87, bootstrap=True, total=   0.9s\n",
      "[CV] n_estimators=155, min_samples_split=2, min_samples_leaf=1, max_features=auto, max_depth=87, bootstrap=True \n",
      "[CV]  n_estimators=155, min_samples_split=2, min_samples_leaf=1, max_features=auto, max_depth=87, bootstrap=True, total=   0.9s\n",
      "[CV] n_estimators=50, min_samples_split=2, min_samples_leaf=2, max_features=sqrt, max_depth=98, bootstrap=True \n",
      "[CV]  n_estimators=50, min_samples_split=2, min_samples_leaf=2, max_features=sqrt, max_depth=98, bootstrap=True, total=   0.3s\n",
      "[CV] n_estimators=50, min_samples_split=2, min_samples_leaf=2, max_features=sqrt, max_depth=98, bootstrap=True \n",
      "[CV]  n_estimators=50, min_samples_split=2, min_samples_leaf=2, max_features=sqrt, max_depth=98, bootstrap=True, total=   0.3s\n",
      "[CV] n_estimators=50, min_samples_split=2, min_samples_leaf=2, max_features=sqrt, max_depth=98, bootstrap=True \n",
      "[CV]  n_estimators=50, min_samples_split=2, min_samples_leaf=2, max_features=sqrt, max_depth=98, bootstrap=True, total=   0.3s\n",
      "[CV] n_estimators=366, min_samples_split=10, min_samples_leaf=4, max_features=auto, max_depth=10, bootstrap=False \n",
      "[CV]  n_estimators=366, min_samples_split=10, min_samples_leaf=4, max_features=auto, max_depth=10, bootstrap=False, total=   2.1s\n",
      "[CV] n_estimators=366, min_samples_split=10, min_samples_leaf=4, max_features=auto, max_depth=10, bootstrap=False \n",
      "[CV]  n_estimators=366, min_samples_split=10, min_samples_leaf=4, max_features=auto, max_depth=10, bootstrap=False, total=   2.1s\n",
      "[CV] n_estimators=366, min_samples_split=10, min_samples_leaf=4, max_features=auto, max_depth=10, bootstrap=False \n",
      "[CV]  n_estimators=366, min_samples_split=10, min_samples_leaf=4, max_features=auto, max_depth=10, bootstrap=False, total=   2.1s\n",
      "[CV] n_estimators=50, min_samples_split=2, min_samples_leaf=1, max_features=auto, max_depth=65, bootstrap=True \n"
     ]
    },
    {
     "name": "stdout",
     "output_type": "stream",
     "text": [
      "[CV]  n_estimators=50, min_samples_split=2, min_samples_leaf=1, max_features=auto, max_depth=65, bootstrap=True, total=   0.3s\n",
      "[CV] n_estimators=50, min_samples_split=2, min_samples_leaf=1, max_features=auto, max_depth=65, bootstrap=True \n",
      "[CV]  n_estimators=50, min_samples_split=2, min_samples_leaf=1, max_features=auto, max_depth=65, bootstrap=True, total=   0.3s\n",
      "[CV] n_estimators=50, min_samples_split=2, min_samples_leaf=1, max_features=auto, max_depth=65, bootstrap=True \n",
      "[CV]  n_estimators=50, min_samples_split=2, min_samples_leaf=1, max_features=auto, max_depth=65, bootstrap=True, total=   0.3s\n",
      "[CV] n_estimators=366, min_samples_split=5, min_samples_leaf=1, max_features=sqrt, max_depth=32, bootstrap=True \n",
      "[CV]  n_estimators=366, min_samples_split=5, min_samples_leaf=1, max_features=sqrt, max_depth=32, bootstrap=True, total=   2.1s\n",
      "[CV] n_estimators=366, min_samples_split=5, min_samples_leaf=1, max_features=sqrt, max_depth=32, bootstrap=True \n",
      "[CV]  n_estimators=366, min_samples_split=5, min_samples_leaf=1, max_features=sqrt, max_depth=32, bootstrap=True, total=   2.1s\n",
      "[CV] n_estimators=366, min_samples_split=5, min_samples_leaf=1, max_features=sqrt, max_depth=32, bootstrap=True \n",
      "[CV]  n_estimators=366, min_samples_split=5, min_samples_leaf=1, max_features=sqrt, max_depth=32, bootstrap=True, total=   2.1s\n",
      "[CV] n_estimators=894, min_samples_split=5, min_samples_leaf=4, max_features=sqrt, max_depth=32, bootstrap=True \n",
      "[CV]  n_estimators=894, min_samples_split=5, min_samples_leaf=4, max_features=sqrt, max_depth=32, bootstrap=True, total=   4.6s\n",
      "[CV] n_estimators=894, min_samples_split=5, min_samples_leaf=4, max_features=sqrt, max_depth=32, bootstrap=True \n",
      "[CV]  n_estimators=894, min_samples_split=5, min_samples_leaf=4, max_features=sqrt, max_depth=32, bootstrap=True, total=   4.5s\n",
      "[CV] n_estimators=894, min_samples_split=5, min_samples_leaf=4, max_features=sqrt, max_depth=32, bootstrap=True \n",
      "[CV]  n_estimators=894, min_samples_split=5, min_samples_leaf=4, max_features=sqrt, max_depth=32, bootstrap=True, total=   4.5s\n",
      "[CV] n_estimators=261, min_samples_split=5, min_samples_leaf=1, max_features=auto, max_depth=21, bootstrap=True \n",
      "[CV]  n_estimators=261, min_samples_split=5, min_samples_leaf=1, max_features=auto, max_depth=21, bootstrap=True, total=   1.5s\n",
      "[CV] n_estimators=261, min_samples_split=5, min_samples_leaf=1, max_features=auto, max_depth=21, bootstrap=True \n",
      "[CV]  n_estimators=261, min_samples_split=5, min_samples_leaf=1, max_features=auto, max_depth=21, bootstrap=True, total=   1.5s\n",
      "[CV] n_estimators=261, min_samples_split=5, min_samples_leaf=1, max_features=auto, max_depth=21, bootstrap=True \n",
      "[CV]  n_estimators=261, min_samples_split=5, min_samples_leaf=1, max_features=auto, max_depth=21, bootstrap=True, total=   1.5s\n",
      "[CV] n_estimators=261, min_samples_split=10, min_samples_leaf=1, max_features=auto, max_depth=87, bootstrap=True \n",
      "[CV]  n_estimators=261, min_samples_split=10, min_samples_leaf=1, max_features=auto, max_depth=87, bootstrap=True, total=   1.5s\n",
      "[CV] n_estimators=261, min_samples_split=10, min_samples_leaf=1, max_features=auto, max_depth=87, bootstrap=True \n",
      "[CV]  n_estimators=261, min_samples_split=10, min_samples_leaf=1, max_features=auto, max_depth=87, bootstrap=True, total=   1.4s\n",
      "[CV] n_estimators=261, min_samples_split=10, min_samples_leaf=1, max_features=auto, max_depth=87, bootstrap=True \n",
      "[CV]  n_estimators=261, min_samples_split=10, min_samples_leaf=1, max_features=auto, max_depth=87, bootstrap=True, total=   1.4s\n",
      "[CV] n_estimators=683, min_samples_split=10, min_samples_leaf=2, max_features=sqrt, max_depth=110, bootstrap=False \n",
      "[CV]  n_estimators=683, min_samples_split=10, min_samples_leaf=2, max_features=sqrt, max_depth=110, bootstrap=False, total=   5.2s\n",
      "[CV] n_estimators=683, min_samples_split=10, min_samples_leaf=2, max_features=sqrt, max_depth=110, bootstrap=False \n",
      "[CV]  n_estimators=683, min_samples_split=10, min_samples_leaf=2, max_features=sqrt, max_depth=110, bootstrap=False, total=   4.9s\n",
      "[CV] n_estimators=683, min_samples_split=10, min_samples_leaf=2, max_features=sqrt, max_depth=110, bootstrap=False \n",
      "[CV]  n_estimators=683, min_samples_split=10, min_samples_leaf=2, max_features=sqrt, max_depth=110, bootstrap=False, total=   5.0s\n",
      "[CV] n_estimators=894, min_samples_split=10, min_samples_leaf=4, max_features=sqrt, max_depth=110, bootstrap=False \n",
      "[CV]  n_estimators=894, min_samples_split=10, min_samples_leaf=4, max_features=sqrt, max_depth=110, bootstrap=False, total=   6.3s\n",
      "[CV] n_estimators=894, min_samples_split=10, min_samples_leaf=4, max_features=sqrt, max_depth=110, bootstrap=False \n",
      "[CV]  n_estimators=894, min_samples_split=10, min_samples_leaf=4, max_features=sqrt, max_depth=110, bootstrap=False, total=   6.1s\n",
      "[CV] n_estimators=894, min_samples_split=10, min_samples_leaf=4, max_features=sqrt, max_depth=110, bootstrap=False \n",
      "[CV]  n_estimators=894, min_samples_split=10, min_samples_leaf=4, max_features=sqrt, max_depth=110, bootstrap=False, total=   6.2s\n",
      "[CV] n_estimators=788, min_samples_split=5, min_samples_leaf=1, max_features=sqrt, max_depth=None, bootstrap=True \n",
      "[CV]  n_estimators=788, min_samples_split=5, min_samples_leaf=1, max_features=sqrt, max_depth=None, bootstrap=True, total=   4.6s\n",
      "[CV] n_estimators=788, min_samples_split=5, min_samples_leaf=1, max_features=sqrt, max_depth=None, bootstrap=True \n",
      "[CV]  n_estimators=788, min_samples_split=5, min_samples_leaf=1, max_features=sqrt, max_depth=None, bootstrap=True, total=   4.5s\n",
      "[CV] n_estimators=788, min_samples_split=5, min_samples_leaf=1, max_features=sqrt, max_depth=None, bootstrap=True \n",
      "[CV]  n_estimators=788, min_samples_split=5, min_samples_leaf=1, max_features=sqrt, max_depth=None, bootstrap=True, total=   4.5s\n",
      "[CV] n_estimators=155, min_samples_split=2, min_samples_leaf=4, max_features=sqrt, max_depth=98, bootstrap=False \n",
      "[CV]  n_estimators=155, min_samples_split=2, min_samples_leaf=4, max_features=sqrt, max_depth=98, bootstrap=False, total=   1.1s\n",
      "[CV] n_estimators=155, min_samples_split=2, min_samples_leaf=4, max_features=sqrt, max_depth=98, bootstrap=False \n",
      "[CV]  n_estimators=155, min_samples_split=2, min_samples_leaf=4, max_features=sqrt, max_depth=98, bootstrap=False, total=   1.1s\n",
      "[CV] n_estimators=155, min_samples_split=2, min_samples_leaf=4, max_features=sqrt, max_depth=98, bootstrap=False \n",
      "[CV]  n_estimators=155, min_samples_split=2, min_samples_leaf=4, max_features=sqrt, max_depth=98, bootstrap=False, total=   1.1s\n",
      "[CV] n_estimators=261, min_samples_split=5, min_samples_leaf=2, max_features=auto, max_depth=110, bootstrap=True \n",
      "[CV]  n_estimators=261, min_samples_split=5, min_samples_leaf=2, max_features=auto, max_depth=110, bootstrap=True, total=   1.5s\n",
      "[CV] n_estimators=261, min_samples_split=5, min_samples_leaf=2, max_features=auto, max_depth=110, bootstrap=True \n",
      "[CV]  n_estimators=261, min_samples_split=5, min_samples_leaf=2, max_features=auto, max_depth=110, bootstrap=True, total=   1.4s\n",
      "[CV] n_estimators=261, min_samples_split=5, min_samples_leaf=2, max_features=auto, max_depth=110, bootstrap=True \n",
      "[CV]  n_estimators=261, min_samples_split=5, min_samples_leaf=2, max_features=auto, max_depth=110, bootstrap=True, total=   1.4s\n",
      "[CV] n_estimators=1000, min_samples_split=5, min_samples_leaf=2, max_features=auto, max_depth=43, bootstrap=False \n",
      "[CV]  n_estimators=1000, min_samples_split=5, min_samples_leaf=2, max_features=auto, max_depth=43, bootstrap=False, total=   7.7s\n",
      "[CV] n_estimators=1000, min_samples_split=5, min_samples_leaf=2, max_features=auto, max_depth=43, bootstrap=False \n",
      "[CV]  n_estimators=1000, min_samples_split=5, min_samples_leaf=2, max_features=auto, max_depth=43, bootstrap=False, total=   7.4s\n",
      "[CV] n_estimators=1000, min_samples_split=5, min_samples_leaf=2, max_features=auto, max_depth=43, bootstrap=False \n",
      "[CV]  n_estimators=1000, min_samples_split=5, min_samples_leaf=2, max_features=auto, max_depth=43, bootstrap=False, total=   7.6s\n",
      "[CV] n_estimators=366, min_samples_split=5, min_samples_leaf=2, max_features=auto, max_depth=76, bootstrap=False \n",
      "[CV]  n_estimators=366, min_samples_split=5, min_samples_leaf=2, max_features=auto, max_depth=76, bootstrap=False, total=   3.0s\n",
      "[CV] n_estimators=366, min_samples_split=5, min_samples_leaf=2, max_features=auto, max_depth=76, bootstrap=False \n"
     ]
    },
    {
     "name": "stdout",
     "output_type": "stream",
     "text": [
      "[CV]  n_estimators=366, min_samples_split=5, min_samples_leaf=2, max_features=auto, max_depth=76, bootstrap=False, total=   2.7s\n",
      "[CV] n_estimators=366, min_samples_split=5, min_samples_leaf=2, max_features=auto, max_depth=76, bootstrap=False \n",
      "[CV]  n_estimators=366, min_samples_split=5, min_samples_leaf=2, max_features=auto, max_depth=76, bootstrap=False, total=   2.8s\n",
      "[CV] n_estimators=1000, min_samples_split=10, min_samples_leaf=1, max_features=auto, max_depth=32, bootstrap=False \n",
      "[CV]  n_estimators=1000, min_samples_split=10, min_samples_leaf=1, max_features=auto, max_depth=32, bootstrap=False, total=   7.8s\n",
      "[CV] n_estimators=1000, min_samples_split=10, min_samples_leaf=1, max_features=auto, max_depth=32, bootstrap=False \n",
      "[CV]  n_estimators=1000, min_samples_split=10, min_samples_leaf=1, max_features=auto, max_depth=32, bootstrap=False, total=   7.5s\n",
      "[CV] n_estimators=1000, min_samples_split=10, min_samples_leaf=1, max_features=auto, max_depth=32, bootstrap=False \n",
      "[CV]  n_estimators=1000, min_samples_split=10, min_samples_leaf=1, max_features=auto, max_depth=32, bootstrap=False, total=   7.7s\n",
      "[CV] n_estimators=261, min_samples_split=5, min_samples_leaf=2, max_features=sqrt, max_depth=65, bootstrap=True \n",
      "[CV]  n_estimators=261, min_samples_split=5, min_samples_leaf=2, max_features=sqrt, max_depth=65, bootstrap=True, total=   1.5s\n",
      "[CV] n_estimators=261, min_samples_split=5, min_samples_leaf=2, max_features=sqrt, max_depth=65, bootstrap=True \n",
      "[CV]  n_estimators=261, min_samples_split=5, min_samples_leaf=2, max_features=sqrt, max_depth=65, bootstrap=True, total=   1.4s\n",
      "[CV] n_estimators=261, min_samples_split=5, min_samples_leaf=2, max_features=sqrt, max_depth=65, bootstrap=True \n",
      "[CV]  n_estimators=261, min_samples_split=5, min_samples_leaf=2, max_features=sqrt, max_depth=65, bootstrap=True, total=   1.4s\n",
      "[CV] n_estimators=50, min_samples_split=10, min_samples_leaf=4, max_features=sqrt, max_depth=21, bootstrap=False \n",
      "[CV]  n_estimators=50, min_samples_split=10, min_samples_leaf=4, max_features=sqrt, max_depth=21, bootstrap=False, total=   0.4s\n",
      "[CV] n_estimators=50, min_samples_split=10, min_samples_leaf=4, max_features=sqrt, max_depth=21, bootstrap=False \n",
      "[CV]  n_estimators=50, min_samples_split=10, min_samples_leaf=4, max_features=sqrt, max_depth=21, bootstrap=False, total=   0.3s\n",
      "[CV] n_estimators=50, min_samples_split=10, min_samples_leaf=4, max_features=sqrt, max_depth=21, bootstrap=False \n",
      "[CV]  n_estimators=50, min_samples_split=10, min_samples_leaf=4, max_features=sqrt, max_depth=21, bootstrap=False, total=   0.4s\n",
      "[CV] n_estimators=788, min_samples_split=2, min_samples_leaf=1, max_features=auto, max_depth=54, bootstrap=True \n",
      "[CV]  n_estimators=788, min_samples_split=2, min_samples_leaf=1, max_features=auto, max_depth=54, bootstrap=True, total=   4.6s\n",
      "[CV] n_estimators=788, min_samples_split=2, min_samples_leaf=1, max_features=auto, max_depth=54, bootstrap=True \n",
      "[CV]  n_estimators=788, min_samples_split=2, min_samples_leaf=1, max_features=auto, max_depth=54, bootstrap=True, total=   4.6s\n",
      "[CV] n_estimators=788, min_samples_split=2, min_samples_leaf=1, max_features=auto, max_depth=54, bootstrap=True \n",
      "[CV]  n_estimators=788, min_samples_split=2, min_samples_leaf=1, max_features=auto, max_depth=54, bootstrap=True, total=   4.6s\n",
      "[CV] n_estimators=577, min_samples_split=5, min_samples_leaf=1, max_features=auto, max_depth=21, bootstrap=False \n",
      "[CV]  n_estimators=577, min_samples_split=5, min_samples_leaf=1, max_features=auto, max_depth=21, bootstrap=False, total=   4.6s\n",
      "[CV] n_estimators=577, min_samples_split=5, min_samples_leaf=1, max_features=auto, max_depth=21, bootstrap=False \n",
      "[CV]  n_estimators=577, min_samples_split=5, min_samples_leaf=1, max_features=auto, max_depth=21, bootstrap=False, total=   4.4s\n",
      "[CV] n_estimators=577, min_samples_split=5, min_samples_leaf=1, max_features=auto, max_depth=21, bootstrap=False \n",
      "[CV]  n_estimators=577, min_samples_split=5, min_samples_leaf=1, max_features=auto, max_depth=21, bootstrap=False, total=   4.5s\n",
      "[CV] n_estimators=366, min_samples_split=5, min_samples_leaf=4, max_features=auto, max_depth=98, bootstrap=True \n",
      "[CV]  n_estimators=366, min_samples_split=5, min_samples_leaf=4, max_features=auto, max_depth=98, bootstrap=True, total=   1.9s\n",
      "[CV] n_estimators=366, min_samples_split=5, min_samples_leaf=4, max_features=auto, max_depth=98, bootstrap=True \n",
      "[CV]  n_estimators=366, min_samples_split=5, min_samples_leaf=4, max_features=auto, max_depth=98, bootstrap=True, total=   1.8s\n",
      "[CV] n_estimators=366, min_samples_split=5, min_samples_leaf=4, max_features=auto, max_depth=98, bootstrap=True \n",
      "[CV]  n_estimators=366, min_samples_split=5, min_samples_leaf=4, max_features=auto, max_depth=98, bootstrap=True, total=   1.9s\n",
      "[CV] n_estimators=261, min_samples_split=10, min_samples_leaf=4, max_features=sqrt, max_depth=21, bootstrap=True \n",
      "[CV]  n_estimators=261, min_samples_split=10, min_samples_leaf=4, max_features=sqrt, max_depth=21, bootstrap=True, total=   1.4s\n",
      "[CV] n_estimators=261, min_samples_split=10, min_samples_leaf=4, max_features=sqrt, max_depth=21, bootstrap=True \n",
      "[CV]  n_estimators=261, min_samples_split=10, min_samples_leaf=4, max_features=sqrt, max_depth=21, bootstrap=True, total=   1.3s\n",
      "[CV] n_estimators=261, min_samples_split=10, min_samples_leaf=4, max_features=sqrt, max_depth=21, bootstrap=True \n",
      "[CV]  n_estimators=261, min_samples_split=10, min_samples_leaf=4, max_features=sqrt, max_depth=21, bootstrap=True, total=   1.3s\n",
      "[CV] n_estimators=1000, min_samples_split=10, min_samples_leaf=2, max_features=auto, max_depth=76, bootstrap=False \n",
      "[CV]  n_estimators=1000, min_samples_split=10, min_samples_leaf=2, max_features=auto, max_depth=76, bootstrap=False, total=   7.5s\n",
      "[CV] n_estimators=1000, min_samples_split=10, min_samples_leaf=2, max_features=auto, max_depth=76, bootstrap=False \n",
      "[CV]  n_estimators=1000, min_samples_split=10, min_samples_leaf=2, max_features=auto, max_depth=76, bootstrap=False, total=   7.3s\n",
      "[CV] n_estimators=1000, min_samples_split=10, min_samples_leaf=2, max_features=auto, max_depth=76, bootstrap=False \n",
      "[CV]  n_estimators=1000, min_samples_split=10, min_samples_leaf=2, max_features=auto, max_depth=76, bootstrap=False, total=   7.5s\n",
      "[CV] n_estimators=1000, min_samples_split=5, min_samples_leaf=4, max_features=sqrt, max_depth=54, bootstrap=False \n",
      "[CV]  n_estimators=1000, min_samples_split=5, min_samples_leaf=4, max_features=sqrt, max_depth=54, bootstrap=False, total=   7.2s\n",
      "[CV] n_estimators=1000, min_samples_split=5, min_samples_leaf=4, max_features=sqrt, max_depth=54, bootstrap=False \n",
      "[CV]  n_estimators=1000, min_samples_split=5, min_samples_leaf=4, max_features=sqrt, max_depth=54, bootstrap=False, total=   7.0s\n",
      "[CV] n_estimators=1000, min_samples_split=5, min_samples_leaf=4, max_features=sqrt, max_depth=54, bootstrap=False \n",
      "[CV]  n_estimators=1000, min_samples_split=5, min_samples_leaf=4, max_features=sqrt, max_depth=54, bootstrap=False, total=   7.1s\n",
      "[CV] n_estimators=50, min_samples_split=10, min_samples_leaf=4, max_features=sqrt, max_depth=54, bootstrap=True \n",
      "[CV]  n_estimators=50, min_samples_split=10, min_samples_leaf=4, max_features=sqrt, max_depth=54, bootstrap=True, total=   0.3s\n",
      "[CV] n_estimators=50, min_samples_split=10, min_samples_leaf=4, max_features=sqrt, max_depth=54, bootstrap=True \n",
      "[CV]  n_estimators=50, min_samples_split=10, min_samples_leaf=4, max_features=sqrt, max_depth=54, bootstrap=True, total=   0.3s\n",
      "[CV] n_estimators=50, min_samples_split=10, min_samples_leaf=4, max_features=sqrt, max_depth=54, bootstrap=True \n",
      "[CV]  n_estimators=50, min_samples_split=10, min_samples_leaf=4, max_features=sqrt, max_depth=54, bootstrap=True, total=   0.3s\n",
      "[CV] n_estimators=683, min_samples_split=5, min_samples_leaf=1, max_features=auto, max_depth=87, bootstrap=True \n",
      "[CV]  n_estimators=683, min_samples_split=5, min_samples_leaf=1, max_features=auto, max_depth=87, bootstrap=True, total=   4.2s\n",
      "[CV] n_estimators=683, min_samples_split=5, min_samples_leaf=1, max_features=auto, max_depth=87, bootstrap=True \n",
      "[CV]  n_estimators=683, min_samples_split=5, min_samples_leaf=1, max_features=auto, max_depth=87, bootstrap=True, total=   4.2s\n",
      "[CV] n_estimators=683, min_samples_split=5, min_samples_leaf=1, max_features=auto, max_depth=87, bootstrap=True \n"
     ]
    },
    {
     "name": "stdout",
     "output_type": "stream",
     "text": [
      "[CV]  n_estimators=683, min_samples_split=5, min_samples_leaf=1, max_features=auto, max_depth=87, bootstrap=True, total=   4.1s\n",
      "[CV] n_estimators=472, min_samples_split=10, min_samples_leaf=2, max_features=auto, max_depth=None, bootstrap=True \n",
      "[CV]  n_estimators=472, min_samples_split=10, min_samples_leaf=2, max_features=auto, max_depth=None, bootstrap=True, total=   2.8s\n",
      "[CV] n_estimators=472, min_samples_split=10, min_samples_leaf=2, max_features=auto, max_depth=None, bootstrap=True \n",
      "[CV]  n_estimators=472, min_samples_split=10, min_samples_leaf=2, max_features=auto, max_depth=None, bootstrap=True, total=   2.6s\n",
      "[CV] n_estimators=472, min_samples_split=10, min_samples_leaf=2, max_features=auto, max_depth=None, bootstrap=True \n",
      "[CV]  n_estimators=472, min_samples_split=10, min_samples_leaf=2, max_features=auto, max_depth=None, bootstrap=True, total=   2.6s\n",
      "[CV] n_estimators=577, min_samples_split=10, min_samples_leaf=1, max_features=auto, max_depth=54, bootstrap=False \n",
      "[CV]  n_estimators=577, min_samples_split=10, min_samples_leaf=1, max_features=auto, max_depth=54, bootstrap=False, total=   4.5s\n",
      "[CV] n_estimators=577, min_samples_split=10, min_samples_leaf=1, max_features=auto, max_depth=54, bootstrap=False \n",
      "[CV]  n_estimators=577, min_samples_split=10, min_samples_leaf=1, max_features=auto, max_depth=54, bootstrap=False, total=   4.3s\n",
      "[CV] n_estimators=577, min_samples_split=10, min_samples_leaf=1, max_features=auto, max_depth=54, bootstrap=False \n",
      "[CV]  n_estimators=577, min_samples_split=10, min_samples_leaf=1, max_features=auto, max_depth=54, bootstrap=False, total=   4.4s\n",
      "[CV] n_estimators=261, min_samples_split=5, min_samples_leaf=4, max_features=sqrt, max_depth=54, bootstrap=True \n",
      "[CV]  n_estimators=261, min_samples_split=5, min_samples_leaf=4, max_features=sqrt, max_depth=54, bootstrap=True, total=   1.3s\n",
      "[CV] n_estimators=261, min_samples_split=5, min_samples_leaf=4, max_features=sqrt, max_depth=54, bootstrap=True \n",
      "[CV]  n_estimators=261, min_samples_split=5, min_samples_leaf=4, max_features=sqrt, max_depth=54, bootstrap=True, total=   1.3s\n",
      "[CV] n_estimators=261, min_samples_split=5, min_samples_leaf=4, max_features=sqrt, max_depth=54, bootstrap=True \n",
      "[CV]  n_estimators=261, min_samples_split=5, min_samples_leaf=4, max_features=sqrt, max_depth=54, bootstrap=True, total=   1.3s\n",
      "[CV] n_estimators=472, min_samples_split=2, min_samples_leaf=2, max_features=auto, max_depth=21, bootstrap=True \n",
      "[CV]  n_estimators=472, min_samples_split=2, min_samples_leaf=2, max_features=auto, max_depth=21, bootstrap=True, total=   2.7s\n",
      "[CV] n_estimators=472, min_samples_split=2, min_samples_leaf=2, max_features=auto, max_depth=21, bootstrap=True \n",
      "[CV]  n_estimators=472, min_samples_split=2, min_samples_leaf=2, max_features=auto, max_depth=21, bootstrap=True, total=   2.6s\n",
      "[CV] n_estimators=472, min_samples_split=2, min_samples_leaf=2, max_features=auto, max_depth=21, bootstrap=True \n",
      "[CV]  n_estimators=472, min_samples_split=2, min_samples_leaf=2, max_features=auto, max_depth=21, bootstrap=True, total=   2.6s\n",
      "[CV] n_estimators=366, min_samples_split=2, min_samples_leaf=4, max_features=sqrt, max_depth=32, bootstrap=False \n",
      "[CV]  n_estimators=366, min_samples_split=2, min_samples_leaf=4, max_features=sqrt, max_depth=32, bootstrap=False, total=   2.6s\n",
      "[CV] n_estimators=366, min_samples_split=2, min_samples_leaf=4, max_features=sqrt, max_depth=32, bootstrap=False \n",
      "[CV]  n_estimators=366, min_samples_split=2, min_samples_leaf=4, max_features=sqrt, max_depth=32, bootstrap=False, total=   2.5s\n",
      "[CV] n_estimators=366, min_samples_split=2, min_samples_leaf=4, max_features=sqrt, max_depth=32, bootstrap=False \n",
      "[CV]  n_estimators=366, min_samples_split=2, min_samples_leaf=4, max_features=sqrt, max_depth=32, bootstrap=False, total=   2.6s\n",
      "[CV] n_estimators=1000, min_samples_split=2, min_samples_leaf=1, max_features=sqrt, max_depth=87, bootstrap=True \n",
      "[CV]  n_estimators=1000, min_samples_split=2, min_samples_leaf=1, max_features=sqrt, max_depth=87, bootstrap=True, total=   5.9s\n",
      "[CV] n_estimators=1000, min_samples_split=2, min_samples_leaf=1, max_features=sqrt, max_depth=87, bootstrap=True \n",
      "[CV]  n_estimators=1000, min_samples_split=2, min_samples_leaf=1, max_features=sqrt, max_depth=87, bootstrap=True, total=   5.8s\n",
      "[CV] n_estimators=1000, min_samples_split=2, min_samples_leaf=1, max_features=sqrt, max_depth=87, bootstrap=True \n",
      "[CV]  n_estimators=1000, min_samples_split=2, min_samples_leaf=1, max_features=sqrt, max_depth=87, bootstrap=True, total=   5.8s\n",
      "[CV] n_estimators=1000, min_samples_split=5, min_samples_leaf=4, max_features=auto, max_depth=54, bootstrap=True \n",
      "[CV]  n_estimators=1000, min_samples_split=5, min_samples_leaf=4, max_features=auto, max_depth=54, bootstrap=True, total=   5.1s\n",
      "[CV] n_estimators=1000, min_samples_split=5, min_samples_leaf=4, max_features=auto, max_depth=54, bootstrap=True \n",
      "[CV]  n_estimators=1000, min_samples_split=5, min_samples_leaf=4, max_features=auto, max_depth=54, bootstrap=True, total=   5.0s\n",
      "[CV] n_estimators=1000, min_samples_split=5, min_samples_leaf=4, max_features=auto, max_depth=54, bootstrap=True \n",
      "[CV]  n_estimators=1000, min_samples_split=5, min_samples_leaf=4, max_features=auto, max_depth=54, bootstrap=True, total=   5.1s\n",
      "[CV] n_estimators=366, min_samples_split=5, min_samples_leaf=4, max_features=auto, max_depth=87, bootstrap=False \n",
      "[CV]  n_estimators=366, min_samples_split=5, min_samples_leaf=4, max_features=auto, max_depth=87, bootstrap=False, total=   2.6s\n",
      "[CV] n_estimators=366, min_samples_split=5, min_samples_leaf=4, max_features=auto, max_depth=87, bootstrap=False \n",
      "[CV]  n_estimators=366, min_samples_split=5, min_samples_leaf=4, max_features=auto, max_depth=87, bootstrap=False, total=   2.5s\n",
      "[CV] n_estimators=366, min_samples_split=5, min_samples_leaf=4, max_features=auto, max_depth=87, bootstrap=False \n",
      "[CV]  n_estimators=366, min_samples_split=5, min_samples_leaf=4, max_features=auto, max_depth=87, bootstrap=False, total=   2.6s\n",
      "[CV] n_estimators=788, min_samples_split=10, min_samples_leaf=2, max_features=sqrt, max_depth=65, bootstrap=True \n",
      "[CV]  n_estimators=788, min_samples_split=10, min_samples_leaf=2, max_features=sqrt, max_depth=65, bootstrap=True, total=   4.2s\n",
      "[CV] n_estimators=788, min_samples_split=10, min_samples_leaf=2, max_features=sqrt, max_depth=65, bootstrap=True \n",
      "[CV]  n_estimators=788, min_samples_split=10, min_samples_leaf=2, max_features=sqrt, max_depth=65, bootstrap=True, total=   4.1s\n",
      "[CV] n_estimators=788, min_samples_split=10, min_samples_leaf=2, max_features=sqrt, max_depth=65, bootstrap=True \n",
      "[CV]  n_estimators=788, min_samples_split=10, min_samples_leaf=2, max_features=sqrt, max_depth=65, bootstrap=True, total=   4.1s\n",
      "[CV] n_estimators=50, min_samples_split=10, min_samples_leaf=4, max_features=sqrt, max_depth=32, bootstrap=True \n",
      "[CV]  n_estimators=50, min_samples_split=10, min_samples_leaf=4, max_features=sqrt, max_depth=32, bootstrap=True, total=   0.3s\n",
      "[CV] n_estimators=50, min_samples_split=10, min_samples_leaf=4, max_features=sqrt, max_depth=32, bootstrap=True \n",
      "[CV]  n_estimators=50, min_samples_split=10, min_samples_leaf=4, max_features=sqrt, max_depth=32, bootstrap=True, total=   0.2s\n",
      "[CV] n_estimators=50, min_samples_split=10, min_samples_leaf=4, max_features=sqrt, max_depth=32, bootstrap=True \n",
      "[CV]  n_estimators=50, min_samples_split=10, min_samples_leaf=4, max_features=sqrt, max_depth=32, bootstrap=True, total=   0.3s\n",
      "[CV] n_estimators=366, min_samples_split=2, min_samples_leaf=2, max_features=sqrt, max_depth=98, bootstrap=False \n",
      "[CV]  n_estimators=366, min_samples_split=2, min_samples_leaf=2, max_features=sqrt, max_depth=98, bootstrap=False, total=   2.9s\n",
      "[CV] n_estimators=366, min_samples_split=2, min_samples_leaf=2, max_features=sqrt, max_depth=98, bootstrap=False \n",
      "[CV]  n_estimators=366, min_samples_split=2, min_samples_leaf=2, max_features=sqrt, max_depth=98, bootstrap=False, total=   2.7s\n",
      "[CV] n_estimators=366, min_samples_split=2, min_samples_leaf=2, max_features=sqrt, max_depth=98, bootstrap=False \n",
      "[CV]  n_estimators=366, min_samples_split=2, min_samples_leaf=2, max_features=sqrt, max_depth=98, bootstrap=False, total=   2.8s\n",
      "[CV] n_estimators=894, min_samples_split=2, min_samples_leaf=2, max_features=auto, max_depth=98, bootstrap=True \n"
     ]
    },
    {
     "name": "stdout",
     "output_type": "stream",
     "text": [
      "[CV]  n_estimators=894, min_samples_split=2, min_samples_leaf=2, max_features=auto, max_depth=98, bootstrap=True, total=   5.0s\n",
      "[CV] n_estimators=894, min_samples_split=2, min_samples_leaf=2, max_features=auto, max_depth=98, bootstrap=True \n",
      "[CV]  n_estimators=894, min_samples_split=2, min_samples_leaf=2, max_features=auto, max_depth=98, bootstrap=True, total=   4.9s\n",
      "[CV] n_estimators=894, min_samples_split=2, min_samples_leaf=2, max_features=auto, max_depth=98, bootstrap=True \n",
      "[CV]  n_estimators=894, min_samples_split=2, min_samples_leaf=2, max_features=auto, max_depth=98, bootstrap=True, total=   5.0s\n",
      "[CV] n_estimators=894, min_samples_split=2, min_samples_leaf=1, max_features=sqrt, max_depth=65, bootstrap=True \n",
      "[CV]  n_estimators=894, min_samples_split=2, min_samples_leaf=1, max_features=sqrt, max_depth=65, bootstrap=True, total=   5.3s\n",
      "[CV] n_estimators=894, min_samples_split=2, min_samples_leaf=1, max_features=sqrt, max_depth=65, bootstrap=True \n",
      "[CV]  n_estimators=894, min_samples_split=2, min_samples_leaf=1, max_features=sqrt, max_depth=65, bootstrap=True, total=   5.2s\n",
      "[CV] n_estimators=894, min_samples_split=2, min_samples_leaf=1, max_features=sqrt, max_depth=65, bootstrap=True \n",
      "[CV]  n_estimators=894, min_samples_split=2, min_samples_leaf=1, max_features=sqrt, max_depth=65, bootstrap=True, total=   5.2s\n",
      "[CV] n_estimators=894, min_samples_split=2, min_samples_leaf=1, max_features=auto, max_depth=54, bootstrap=False \n",
      "[CV]  n_estimators=894, min_samples_split=2, min_samples_leaf=1, max_features=auto, max_depth=54, bootstrap=False, total=   7.6s\n",
      "[CV] n_estimators=894, min_samples_split=2, min_samples_leaf=1, max_features=auto, max_depth=54, bootstrap=False \n",
      "[CV]  n_estimators=894, min_samples_split=2, min_samples_leaf=1, max_features=auto, max_depth=54, bootstrap=False, total=   7.3s\n",
      "[CV] n_estimators=894, min_samples_split=2, min_samples_leaf=1, max_features=auto, max_depth=54, bootstrap=False \n",
      "[CV]  n_estimators=894, min_samples_split=2, min_samples_leaf=1, max_features=auto, max_depth=54, bootstrap=False, total=   7.4s\n",
      "[CV] n_estimators=261, min_samples_split=2, min_samples_leaf=2, max_features=auto, max_depth=110, bootstrap=True \n",
      "[CV]  n_estimators=261, min_samples_split=2, min_samples_leaf=2, max_features=auto, max_depth=110, bootstrap=True, total=   1.5s\n",
      "[CV] n_estimators=261, min_samples_split=2, min_samples_leaf=2, max_features=auto, max_depth=110, bootstrap=True \n",
      "[CV]  n_estimators=261, min_samples_split=2, min_samples_leaf=2, max_features=auto, max_depth=110, bootstrap=True, total=   1.4s\n",
      "[CV] n_estimators=261, min_samples_split=2, min_samples_leaf=2, max_features=auto, max_depth=110, bootstrap=True \n",
      "[CV]  n_estimators=261, min_samples_split=2, min_samples_leaf=2, max_features=auto, max_depth=110, bootstrap=True, total=   1.4s\n",
      "[CV] n_estimators=366, min_samples_split=10, min_samples_leaf=4, max_features=auto, max_depth=87, bootstrap=False \n",
      "[CV]  n_estimators=366, min_samples_split=10, min_samples_leaf=4, max_features=auto, max_depth=87, bootstrap=False, total=   2.6s\n",
      "[CV] n_estimators=366, min_samples_split=10, min_samples_leaf=4, max_features=auto, max_depth=87, bootstrap=False \n",
      "[CV]  n_estimators=366, min_samples_split=10, min_samples_leaf=4, max_features=auto, max_depth=87, bootstrap=False, total=   2.5s\n",
      "[CV] n_estimators=366, min_samples_split=10, min_samples_leaf=4, max_features=auto, max_depth=87, bootstrap=False \n",
      "[CV]  n_estimators=366, min_samples_split=10, min_samples_leaf=4, max_features=auto, max_depth=87, bootstrap=False, total=   2.6s\n",
      "[CV] n_estimators=577, min_samples_split=5, min_samples_leaf=2, max_features=auto, max_depth=10, bootstrap=True \n",
      "[CV]  n_estimators=577, min_samples_split=5, min_samples_leaf=2, max_features=auto, max_depth=10, bootstrap=True, total=   2.7s\n",
      "[CV] n_estimators=577, min_samples_split=5, min_samples_leaf=2, max_features=auto, max_depth=10, bootstrap=True \n",
      "[CV]  n_estimators=577, min_samples_split=5, min_samples_leaf=2, max_features=auto, max_depth=10, bootstrap=True, total=   2.6s\n",
      "[CV] n_estimators=577, min_samples_split=5, min_samples_leaf=2, max_features=auto, max_depth=10, bootstrap=True \n",
      "[CV]  n_estimators=577, min_samples_split=5, min_samples_leaf=2, max_features=auto, max_depth=10, bootstrap=True, total=   2.6s\n",
      "[CV] n_estimators=577, min_samples_split=10, min_samples_leaf=2, max_features=sqrt, max_depth=43, bootstrap=True \n",
      "[CV]  n_estimators=577, min_samples_split=10, min_samples_leaf=2, max_features=sqrt, max_depth=43, bootstrap=True, total=   3.1s\n",
      "[CV] n_estimators=577, min_samples_split=10, min_samples_leaf=2, max_features=sqrt, max_depth=43, bootstrap=True \n",
      "[CV]  n_estimators=577, min_samples_split=10, min_samples_leaf=2, max_features=sqrt, max_depth=43, bootstrap=True, total=   3.0s\n",
      "[CV] n_estimators=577, min_samples_split=10, min_samples_leaf=2, max_features=sqrt, max_depth=43, bootstrap=True \n",
      "[CV]  n_estimators=577, min_samples_split=10, min_samples_leaf=2, max_features=sqrt, max_depth=43, bootstrap=True, total=   3.0s\n",
      "[CV] n_estimators=155, min_samples_split=5, min_samples_leaf=4, max_features=sqrt, max_depth=98, bootstrap=True \n",
      "[CV]  n_estimators=155, min_samples_split=5, min_samples_leaf=4, max_features=sqrt, max_depth=98, bootstrap=True, total=   0.8s\n",
      "[CV] n_estimators=155, min_samples_split=5, min_samples_leaf=4, max_features=sqrt, max_depth=98, bootstrap=True \n",
      "[CV]  n_estimators=155, min_samples_split=5, min_samples_leaf=4, max_features=sqrt, max_depth=98, bootstrap=True, total=   0.8s\n",
      "[CV] n_estimators=155, min_samples_split=5, min_samples_leaf=4, max_features=sqrt, max_depth=98, bootstrap=True \n",
      "[CV]  n_estimators=155, min_samples_split=5, min_samples_leaf=4, max_features=sqrt, max_depth=98, bootstrap=True, total=   0.8s\n",
      "[CV] n_estimators=577, min_samples_split=2, min_samples_leaf=4, max_features=sqrt, max_depth=None, bootstrap=False \n",
      "[CV]  n_estimators=577, min_samples_split=2, min_samples_leaf=4, max_features=sqrt, max_depth=None, bootstrap=False, total=   4.1s\n",
      "[CV] n_estimators=577, min_samples_split=2, min_samples_leaf=4, max_features=sqrt, max_depth=None, bootstrap=False \n",
      "[CV]  n_estimators=577, min_samples_split=2, min_samples_leaf=4, max_features=sqrt, max_depth=None, bootstrap=False, total=   4.0s\n",
      "[CV] n_estimators=577, min_samples_split=2, min_samples_leaf=4, max_features=sqrt, max_depth=None, bootstrap=False \n",
      "[CV]  n_estimators=577, min_samples_split=2, min_samples_leaf=4, max_features=sqrt, max_depth=None, bootstrap=False, total=   4.1s\n"
     ]
    },
    {
     "name": "stderr",
     "output_type": "stream",
     "text": [
      "[Parallel(n_jobs=1)]: Done 300 out of 300 | elapsed: 16.4min finished\n"
     ]
    },
    {
     "data": {
      "text/plain": [
       "{'n_estimators': 155,\n",
       " 'min_samples_split': 5,\n",
       " 'min_samples_leaf': 2,\n",
       " 'max_features': 'sqrt',\n",
       " 'max_depth': 87,\n",
       " 'bootstrap': False}"
      ]
     },
     "execution_count": 36,
     "metadata": {},
     "output_type": "execute_result"
    }
   ],
   "source": [
    "# random grid\n",
    "\n",
    "random_grid = {'n_estimators': n_estimators,\n",
    "              'max_features': max_features,\n",
    "              'max_depth': max_depth,\n",
    "              'min_samples_split': min_samples_split,\n",
    "              'min_samples_leaf': min_samples_leaf,\n",
    "              'bootstrap': bootstrap}\n",
    "\n",
    "rf_optimized = RandomizedSearchCV(estimator=rf, param_distributions=random_grid, n_iter=100, cv=3, verbose=2, random_state=0)\n",
    "\n",
    "rf_optimized.fit(X_train,y_train)\n",
    "rf_optimized.best_params_"
   ]
  },
  {
   "cell_type": "code",
   "execution_count": 38,
   "metadata": {},
   "outputs": [
    {
     "name": "stdout",
     "output_type": "stream",
     "text": [
      "Accuracy :  0.8173469387755102\n",
      "\n",
      "Classification Report :                precision    recall  f1-score   support\n",
      "\n",
      "           0       0.80      0.69      0.74       328\n",
      "           1       0.82      0.91      0.86       616\n",
      "           2       0.88      0.42      0.57        36\n",
      "\n",
      "    accuracy                           0.82       980\n",
      "   macro avg       0.84      0.67      0.72       980\n",
      "weighted avg       0.82      0.82      0.81       980\n",
      "\n"
     ]
    }
   ],
   "source": [
    "# Random Forest Classifier\n",
    "\n",
    "rf = RandomForestClassifier(n_estimators=155, min_samples_split=5, min_samples_leaf=2,\n",
    "                             max_features='sqrt', max_depth = 87, bootstrap = False,random_state=1)\n",
    "\n",
    "rf.fit(X_train,y_train)\n",
    "y_pred = rf.predict(X_test)\n",
    "print(\"Accuracy : \",accuracy_score(y_test,y_pred))\n",
    "print(\"\\nClassification Report : \",classification_report(y_test,y_pred))"
   ]
  },
  {
   "cell_type": "code",
   "execution_count": null,
   "metadata": {},
   "outputs": [],
   "source": []
  }
 ],
 "metadata": {
  "kernelspec": {
   "display_name": "Python 3",
   "language": "python",
   "name": "python3"
  },
  "language_info": {
   "codemirror_mode": {
    "name": "ipython",
    "version": 3
   },
   "file_extension": ".py",
   "mimetype": "text/x-python",
   "name": "python",
   "nbconvert_exporter": "python",
   "pygments_lexer": "ipython3",
   "version": "3.7.4"
  }
 },
 "nbformat": 4,
 "nbformat_minor": 2
}
